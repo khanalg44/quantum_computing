{
 "cells": [
  {
   "cell_type": "markdown",
   "metadata": {},
   "source": [
    "Tutorials from\n",
    "\n",
    "* https://www.quanta.guru/docs/circuits/random/random/"
   ]
  },
  {
   "cell_type": "code",
   "execution_count": 2,
   "metadata": {},
   "outputs": [],
   "source": [
    "import matplotlib.pyplot as plt\n",
    "%matplotlib inline\n",
    "import numpy as np\n",
    "import sys, math, time\n",
    "\n",
    "from qiskit import BasicAer, execute\n",
    "from qiskit import QuantumCircuit, QuantumRegister, ClassicalRegister"
   ]
  },
  {
   "cell_type": "code",
   "execution_count": 3,
   "metadata": {
    "scrolled": true
   },
   "outputs": [
    {
     "data": {
      "image/png": "[encoded data removed]",
      "text/plain": [
       "<Figure size 610.428x385.28 with 1 Axes>"
      ]
     },
     "execution_count": 3,
     "metadata": {},
     "output_type": "execute_result"
    }
   ],
   "source": [
    "def get_circuit(Nbits):\n",
    "    q = QuantumRegister(Nbits)\n",
    "    c = ClassicalRegister(Nbits)\n",
    "    \n",
    "    ckt = QuantumCircuit(q, c)\n",
    "    ckt.h(q)\n",
    "    ckt.barrier()\n",
    "    ckt.measure(q,c)\n",
    "    return ckt\n",
    "\n",
    "Nbits = 5;\n",
    "ckt = get_circuit(Nbits)\n",
    "ckt.draw(output = 'mpl')"
   ]
  },
  {
   "cell_type": "code",
   "execution_count": 38,
   "metadata": {
    "scrolled": false
   },
   "outputs": [],
   "source": [
    "ckt=get_circuit(Nbits)\n",
    "n_qubits = ckt.n_qubits\n",
    "backend=BasicAer.get_backend(\"qasm_simulator\")\n",
    "job = execute(ckt, backend=backend, shots=100, memory=True)\n",
    "res = job.result()\n",
    "#bit_str = ''.join(job.result().get_memory())\n",
    "#print (res)\n"
   ]
  },
  {
   "cell_type": "code",
   "execution_count": 59,
   "metadata": {},
   "outputs": [
    {
     "name": "stdout",
     "output_type": "stream",
     "text": [
      "[5.9278946  5.91865893 6.21939628 6.70358973 2.21706403 8.93058885\n",
      " 6.18408872 0.2328439  0.14052377 9.32691826 6.40517463 5.95329754\n",
      " 0.26550477 8.06644761 4.52738432 6.51336319 4.7573627  8.83689007\n",
      " 6.3890637  4.82090464] 20\n"
     ]
    }
   ],
   "source": [
    "def get_random_Float(ckt, vmin=0., vmax =10.0, size=20 ):\n",
    "    nbits = 100\n",
    "    n_qubits = ckt.n_qubits\n",
    "    #print (n_qubits)\n",
    "    Nshots = (nbits * size + Nbits -1) // Nbits;\n",
    "    #print ('Nshots=',Nshots)\n",
    "    backend=BasicAer.get_backend(\"qasm_simulator\");\n",
    "    job = execute(ckt, backend=backend, shots=1000, memory=True);\n",
    "    #print (job.result())\n",
    "    bit_str = ''.join(job.result().get_memory())\n",
    "    scale = float(vmax-vmin)/float(2**nbits-1)\n",
    "    \n",
    "    random_vec = np.array([ vmin + scale*float(int(bit_str[i:i+nbits], 2)) \n",
    "                           for i in range(0, nbits*size, nbits)], \n",
    "                          dtype=float)\n",
    "    \n",
    "    return random_vec\n",
    "\n",
    "ckt=get_circuit(Nbits)\n",
    "Rvec=get_random_Float(ckt)\n",
    "\n",
    "print (Rvec, len(Rvec))\n",
    "    \n",
    "    "
   ]
  },
  {
   "cell_type": "code",
   "execution_count": null,
   "metadata": {},
   "outputs": [],
   "source": []
  },
  {
   "cell_type": "code",
   "execution_count": 68,
   "metadata": {},
   "outputs": [
    {
     "name": "stdout",
     "output_type": "stream",
     "text": [
      "0.03553318977355957\n"
     ]
    }
   ],
   "source": [
    "# Draw a sample from uniform distribution.\n",
    "start_time = time.time()\n",
    "sample = get_random_Float(ckt, vmin=-7.67, vmax=19.52, size=50)\n",
    "#sample = uniform_rand_float64(circuit, glo_num_qubits, size=4321, vmin=-7.67, vmax=19.52)\n",
    "sampling_time = time.time() - start_time\n",
    "\n",
    "print (sampling_time)\n",
    "\n"
   ]
  },
  {
   "cell_type": "code",
   "execution_count": null,
   "metadata": {},
   "outputs": [],
   "source": [
    "# Print out some details.\n",
    "print(\"Uniform distribution over floating point numbers:\")\n",
    "print(\"  sample type:\", type(sample), \", element type:\", sample.dtype,\", shape:\", sample.shape)\n",
    "\n",
    "print(\"  sample min: {:.4f}, max: {:.4f}\".format(np.amin(sample), np.amax(sample)))\n",
    "print(\"  sampling time: {:.2f} secs\".format(sampling_time))\n",
    "\n",
    "# Plotting the distribution.\n",
    "plt.hist(sample.ravel(),\n",
    "         bins=min(int(np.ceil(np.sqrt(sample.size))), 100),\n",
    "         density=True, facecolor='b', alpha=0.75)\n",
    "plt.xlabel(\"value\", size=12)\n",
    "plt.ylabel(\"probability\", size=12)\n",
    "plt.title(\"Uniform distribution over float64 numbers in\\\n",
    "                             [{:.2f} ... {:.2f}]\".format(\n",
    "            np.amin(sample), np.amax(sample)), size=12)\n",
    "plt.grid(True)\n",
    "# plt.savefig(\"uniform_distrib_float.png\", bbox_inches=\"tight\")\n",
    "plt.show()"
   ]
  }
 ],
 "metadata": {
  "kernelspec": {
   "display_name": "Python 3",
   "language": "python",
   "name": "python3"
  },
  "language_info": {
   "codemirror_mode": {
    "name": "ipython",
    "version": 3
   },
   "file_extension": ".py",
   "mimetype": "text/x-python",
   "name": "python",
   "nbconvert_exporter": "python",
   "pygments_lexer": "ipython3",
   "version": "3.7.5"
  }
 },
 "nbformat": 4,
 "nbformat_minor": 2
}
