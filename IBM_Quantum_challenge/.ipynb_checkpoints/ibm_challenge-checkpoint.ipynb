{
 "cells": [
  {
   "cell_type": "markdown",
   "metadata": {},
   "source": [
    "# IBM Quantum Challenge\n",
    "<a href='https://quantumzeitgeist.com/ibm-launch-quantum-challenge-to-celebrate-four-years-of-quantum-experience/?fbclid=IwAR0SFYpDA8auXENfMz8sfKvhKAOFBWgUJvUFfxM-OOgAUr1dWxQYPURavMI'>IBM challenge web-page</a>\n",
    "\n",
    "\n",
    "## Google Drive Books \n",
    "https://drive.google.com/drive/u/0/folders/1R7Zuoc05beqbd8YXEbt4d0PP76GOXIm0\n"
   ]
  },
  {
   "cell_type": "code",
   "execution_count": null,
   "metadata": {},
   "outputs": [],
   "source": []
  }
 ],
 "metadata": {
  "kernelspec": {
   "display_name": "Python 3",
   "language": "python",
   "name": "python3"
  },
  "language_info": {
   "codemirror_mode": {
    "name": "ipython",
    "version": 3
   },
   "file_extension": ".py",
   "mimetype": "text/x-python",
   "name": "python",
   "nbconvert_exporter": "python",
   "pygments_lexer": "ipython3",
   "version": "3.7.5"
  }
 },
 "nbformat": 4,
 "nbformat_minor": 2
}
