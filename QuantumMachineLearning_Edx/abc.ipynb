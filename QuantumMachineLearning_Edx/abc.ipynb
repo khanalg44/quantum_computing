The lecture notes and coding examples are presented in Jupyter notebooks.
This ensures that the physics of a topic is immediately made operational in code and that you can try making changes to verify that you understand the underlying concepts.
These notebooks are meant to be complementary to the video lectures, video quizzes, and assignments. 
