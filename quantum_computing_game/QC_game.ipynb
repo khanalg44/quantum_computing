{
 "cells": [
  {
   "cell_type": "markdown",
   "metadata": {},
   "source": [
    "# Quantum Game  with James woonton\n",
    "\n",
    "* Git : https://gist.github.com/quantumjim\n",
    "* https://gist.github.com/quantumjim/f2fd5c727d608d032351e8ea3b4669fc\n",
    "\n",
    "* https://medium.com/@decodoku/games-computers-and-quantum-84bfdd2c0fe0\n",
    "\n",
    "\n",
    "* follow his twitter "
   ]
  },
  {
   "cell_type": "code",
   "execution_count": 1,
   "metadata": {},
   "outputs": [],
   "source": [
    "import numpy as np\n",
    "from qiskit import QuantumCircuit, execute, Aer, IBMQ"
   ]
  },
  {
   "cell_type": "code",
   "execution_count": 10,
   "metadata": {},
   "outputs": [],
   "source": [
    "damage = 0  # damage to the enemy\n",
    "def attack(damage):\n",
    "    damage = min ( (damage +1/3.), 1 )\n",
    "    return damage"
   ]
  },
  {
   "cell_type": "code",
   "execution_count": 13,
   "metadata": {},
   "outputs": [
    {
     "name": "stdout",
     "output_type": "stream",
     "text": [
      "1.0\n"
     ]
    }
   ],
   "source": [
    "damage = attack(damage)\n",
    "print (damage)"
   ]
  },
  {
   "cell_type": "code",
   "execution_count": 23,
   "metadata": {},
   "outputs": [
    {
     "ename": "TypeError",
     "evalue": "unsupported operand type(s) for +: 'NoneType' and 'QuantumCircuit'",
     "output_type": "error",
     "traceback": [
      "\u001b[0;31m---------------------------------------------------------------------------\u001b[0m",
      "\u001b[0;31mTypeError\u001b[0m                                 Traceback (most recent call last)",
      "\u001b[0;32m<ipython-input-23-70320fe8389f>\u001b[0m in \u001b[0;36m<module>\u001b[0;34m\u001b[0m\n\u001b[1;32m     16\u001b[0m \u001b[0;34m\u001b[0m\u001b[0m\n\u001b[1;32m     17\u001b[0m \u001b[0mdamage_qc\u001b[0m \u001b[0;34m=\u001b[0m \u001b[0mattack\u001b[0m\u001b[0;34m(\u001b[0m\u001b[0mdamage_qc\u001b[0m\u001b[0;34m)\u001b[0m\u001b[0;34m\u001b[0m\u001b[0;34m\u001b[0m\u001b[0m\n\u001b[0;32m---> 18\u001b[0;31m \u001b[0mget_damage\u001b[0m\u001b[0;34m(\u001b[0m\u001b[0mdamage_qc\u001b[0m\u001b[0;34m)\u001b[0m\u001b[0;34m\u001b[0m\u001b[0;34m\u001b[0m\u001b[0m\n\u001b[0m\u001b[1;32m     19\u001b[0m \u001b[0;31m#damage_qc.draw()\u001b[0m\u001b[0;34m\u001b[0m\u001b[0;34m\u001b[0m\u001b[0;34m\u001b[0m\u001b[0m\n",
      "\u001b[0;32m<ipython-input-23-70320fe8389f>\u001b[0m in \u001b[0;36mget_damage\u001b[0;34m(damage_qc)\u001b[0m\n\u001b[1;32m      8\u001b[0m     \u001b[0mmeas\u001b[0m\u001b[0;34m.\u001b[0m\u001b[0mmeasure\u001b[0m\u001b[0;34m(\u001b[0m\u001b[0;36m0\u001b[0m\u001b[0;34m,\u001b[0m\u001b[0;36m0\u001b[0m\u001b[0;34m)\u001b[0m\u001b[0;34m\u001b[0m\u001b[0;34m\u001b[0m\u001b[0m\n\u001b[1;32m      9\u001b[0m     \u001b[0mNshots\u001b[0m\u001b[0;34m=\u001b[0m\u001b[0;36m1000\u001b[0m\u001b[0;34m\u001b[0m\u001b[0;34m\u001b[0m\u001b[0m\n\u001b[0;32m---> 10\u001b[0;31m     \u001b[0mcounts\u001b[0m \u001b[0;34m=\u001b[0m \u001b[0mexecute\u001b[0m\u001b[0;34m(\u001b[0m\u001b[0mdamage_qc\u001b[0m\u001b[0;34m+\u001b[0m\u001b[0mmeas\u001b[0m\u001b[0;34m,\u001b[0m \u001b[0mbackend\u001b[0m\u001b[0;34m=\u001b[0m\u001b[0mAer\u001b[0m\u001b[0;34m.\u001b[0m\u001b[0mget_backend\u001b[0m\u001b[0;34m(\u001b[0m\u001b[0;34m'qasm_simulator'\u001b[0m\u001b[0;34m)\u001b[0m\u001b[0;34m,\u001b[0m \u001b[0mshots\u001b[0m\u001b[0;34m=\u001b[0m\u001b[0mNshots\u001b[0m\u001b[0;34m)\u001b[0m\u001b[0;34m.\u001b[0m\u001b[0mresult\u001b[0m\u001b[0;34m(\u001b[0m\u001b[0;34m)\u001b[0m\u001b[0;34m.\u001b[0m\u001b[0mget_counts\u001b[0m\u001b[0;34m(\u001b[0m\u001b[0;34m)\u001b[0m\u001b[0;34m\u001b[0m\u001b[0;34m\u001b[0m\u001b[0m\n\u001b[0m\u001b[1;32m     11\u001b[0m \u001b[0;34m\u001b[0m\u001b[0m\n\u001b[1;32m     12\u001b[0m     \u001b[0mdamage\u001b[0m \u001b[0;34m=\u001b[0m \u001b[0mcounts\u001b[0m\u001b[0;34m[\u001b[0m\u001b[0;34m'1'\u001b[0m\u001b[0;34m]\u001b[0m\u001b[0;34m/\u001b[0m\u001b[0mNshots\u001b[0m\u001b[0;34m\u001b[0m\u001b[0;34m\u001b[0m\u001b[0m\n",
      "\u001b[0;31mTypeError\u001b[0m: unsupported operand type(s) for +: 'NoneType' and 'QuantumCircuit'"
     ]
    }
   ],
   "source": [
    "damage_qc = QuantumCircuit(1,1)\n",
    "\n",
    "def attack(damage_qc):\n",
    "    damage_qc.rx(np.pi/3., 0)  # Rx is the rotation \n",
    "    \n",
    "def get_damage(damage_qc):\n",
    "    meas = QuantumCircuit(1,1)\n",
    "    meas.measure(0,0)\n",
    "    Nshots=1000\n",
    "    counts = execute(damage_qc+meas, backend=Aer.get_backend('qasm_simulator'), shots=Nshots).result().get_counts()\n",
    "    \n",
    "    damage = counts['1']/Nshots\n",
    "    \n",
    "    return damage\n",
    "    \n",
    "    \n",
    "damage_qc = attack(damage_qc)\n",
    "get_damage(damage_qc)\n",
    "#damage_qc.draw()"
   ]
  },
  {
   "cell_type": "code",
   "execution_count": 25,
   "metadata": {},
   "outputs": [
    {
     "ename": "AttributeError",
     "evalue": "'NoneType' object has no attribute 'rx'",
     "output_type": "error",
     "traceback": [
      "\u001b[0;31m---------------------------------------------------------------------------\u001b[0m",
      "\u001b[0;31mAttributeError\u001b[0m                            Traceback (most recent call last)",
      "\u001b[0;32m<ipython-input-25-9bb12dd687df>\u001b[0m in \u001b[0;36m<module>\u001b[0;34m\u001b[0m\n\u001b[1;32m      2\u001b[0m \u001b[0mmeas\u001b[0m\u001b[0;34m.\u001b[0m\u001b[0mmeasure\u001b[0m\u001b[0;34m(\u001b[0m\u001b[0;36m0\u001b[0m\u001b[0;34m,\u001b[0m\u001b[0;36m0\u001b[0m\u001b[0;34m)\u001b[0m\u001b[0;34m\u001b[0m\u001b[0;34m\u001b[0m\u001b[0m\n\u001b[1;32m      3\u001b[0m \u001b[0;34m\u001b[0m\u001b[0m\n\u001b[0;32m----> 4\u001b[0;31m \u001b[0mdamage_qc\u001b[0m \u001b[0;34m=\u001b[0m \u001b[0mattack\u001b[0m\u001b[0;34m(\u001b[0m\u001b[0mdamage_qc\u001b[0m\u001b[0;34m)\u001b[0m\u001b[0;34m\u001b[0m\u001b[0;34m\u001b[0m\u001b[0m\n\u001b[0m\u001b[1;32m      5\u001b[0m \u001b[0;34m\u001b[0m\u001b[0m\n\u001b[1;32m      6\u001b[0m \u001b[0mqc\u001b[0m \u001b[0;34m=\u001b[0m \u001b[0mdamage_qc\u001b[0m\u001b[0;34m+\u001b[0m\u001b[0mmeas\u001b[0m\u001b[0;34m\u001b[0m\u001b[0;34m\u001b[0m\u001b[0m\n",
      "\u001b[0;32m<ipython-input-23-70320fe8389f>\u001b[0m in \u001b[0;36mattack\u001b[0;34m(damage_qc)\u001b[0m\n\u001b[1;32m      2\u001b[0m \u001b[0;34m\u001b[0m\u001b[0m\n\u001b[1;32m      3\u001b[0m \u001b[0;32mdef\u001b[0m \u001b[0mattack\u001b[0m\u001b[0;34m(\u001b[0m\u001b[0mdamage_qc\u001b[0m\u001b[0;34m)\u001b[0m\u001b[0;34m:\u001b[0m\u001b[0;34m\u001b[0m\u001b[0;34m\u001b[0m\u001b[0m\n\u001b[0;32m----> 4\u001b[0;31m     \u001b[0mdamage_qc\u001b[0m\u001b[0;34m.\u001b[0m\u001b[0mrx\u001b[0m\u001b[0;34m(\u001b[0m\u001b[0mnp\u001b[0m\u001b[0;34m.\u001b[0m\u001b[0mpi\u001b[0m\u001b[0;34m/\u001b[0m\u001b[0;36m3.\u001b[0m\u001b[0;34m,\u001b[0m \u001b[0;36m0\u001b[0m\u001b[0;34m)\u001b[0m  \u001b[0;31m# Rx is the rotation\u001b[0m\u001b[0;34m\u001b[0m\u001b[0;34m\u001b[0m\u001b[0m\n\u001b[0m\u001b[1;32m      5\u001b[0m \u001b[0;34m\u001b[0m\u001b[0m\n\u001b[1;32m      6\u001b[0m \u001b[0;32mdef\u001b[0m \u001b[0mget_damage\u001b[0m\u001b[0;34m(\u001b[0m\u001b[0mdamage_qc\u001b[0m\u001b[0;34m)\u001b[0m\u001b[0;34m:\u001b[0m\u001b[0;34m\u001b[0m\u001b[0;34m\u001b[0m\u001b[0m\n",
      "\u001b[0;31mAttributeError\u001b[0m: 'NoneType' object has no attribute 'rx'"
     ]
    }
   ],
   "source": [
    "meas = QuantumCircuit(1,1)\n",
    "meas.measure(0,0)\n",
    "\n",
    "damage_qc = attack(damage_qc)\n",
    "\n",
    "qc = damage_qc+meas\n",
    "    \n",
    "counts = execute(qc, Aer.get_backend('qasm_simulator'), shots=1000).result().get_counts()\n",
    "\n",
    "print(counts)\n",
    "qc.draw()"
   ]
  },
  {
   "cell_type": "code",
   "execution_count": null,
   "metadata": {},
   "outputs": [],
   "source": []
  },
  {
   "cell_type": "code",
   "execution_count": null,
   "metadata": {},
   "outputs": [],
   "source": []
  },
  {
   "cell_type": "code",
   "execution_count": 22,
   "metadata": {},
   "outputs": [
    {
     "name": "stderr",
     "output_type": "stream",
     "text": [
      "No measurements in circuit \"circuit18\": count data will return all zeros.\n"
     ]
    },
    {
     "data": {
      "text/plain": [
       "{'0': 1000}"
      ]
     },
     "execution_count": 22,
     "metadata": {},
     "output_type": "execute_result"
    }
   ],
   "source": [
    "\n",
    "#some tests\n",
    "\n",
    "qc = QuantumCircuit(1,1)\n",
    "\n",
    "backend = Aer.get_backend('qasm_simulator')\n",
    "counts = execute(qc, backend=Aer.get_backend('qasm_simulator'), shots=1000).result().get_counts()\n",
    "counts"
   ]
  },
  {
   "cell_type": "code",
   "execution_count": null,
   "metadata": {},
   "outputs": [],
   "source": [
    "counts = execute(damage_qc, backend=backend, shots=1000).result().get_counts()\n",
    "damage = counts['1']/1000"
   ]
  },
  {
   "cell_type": "code",
   "execution_count": 26,
   "metadata": {},
   "outputs": [
    {
     "name": "stdout",
     "output_type": "stream",
     "text": [
      "Cloning into 'jupyter-widget-game-engine'...\n",
      "remote: Enumerating objects: 26, done.\u001b[K\n",
      "remote: Counting objects: 100% (26/26), done.\u001b[K\n",
      "remote: Compressing objects: 100% (26/26), done.\u001b[K\n",
      "remote: Total 26 (delta 12), reused 1 (delta 0), pack-reused 0\u001b[K\n",
      "Receiving objects: 100% (26/26), 15.87 KiB | 1.22 MiB/s, done.\n",
      "Resolving deltas: 100% (12/12), done.\n",
      "override r--r--r--  gshyam/staff for jupyter-widget-game-engine/.git/objects/pack/pack-8dce7f5e2f564c6c4e4e6b45a95c94876ed5284d.idx? ^C\n"
     ]
    }
   ],
   "source": [
    "!git clone https://github.com/quantumjim/jupyter-widget-game-engine/\n",
    "!mv jupyter-widget-game-engine/jupyter_widget_engine.py jupyter_widget_engine.py\n",
    "!mv jupyter-widget-game-engine/jupyter_widget_game.ipynb jupyter_widget_game.ipynb\n",
    "!rm -r jupyter-widget-game-engine\n"
   ]
  },
  {
   "cell_type": "code",
   "execution_count": 27,
   "metadata": {},
   "outputs": [],
   "source": [
    "from jupyter_widget_engine import jupyter_widget_engine"
   ]
  },
  {
   "cell_type": "code",
   "execution_count": 28,
   "metadata": {},
   "outputs": [
    {
     "data": {
      "application/vnd.jupyter.widget-view+json": {
       "model_id": "3898d15021da4dd98a3118ba5dbef671",
       "version_major": 2,
       "version_minor": 0
      },
      "text/plain": [
       "VBox(children=(HBox(children=(ToggleButton(value=False, disabled=True, layout=Layout(height='50px', width='50p…"
      ]
     },
     "metadata": {},
     "output_type": "display_data"
    }
   ],
   "source": [
    "L = 8\n",
    "    \n",
    "def start(engine):\n",
    "    pass\n",
    "\n",
    "def next_frame(engine):\n",
    "    pass\n",
    "        \n",
    "engine = jupyter_widget_engine(start, next_frame, L=L)"
   ]
  },
  {
   "cell_type": "code",
   "execution_count": 29,
   "metadata": {},
   "outputs": [],
   "source": [
    "def get_terrain(x,y):\n",
    "    \n",
    "    \n",
    "    return 'grass'\n",
    "    "
   ]
  },
  {
   "cell_type": "code",
   "execution_count": 32,
   "metadata": {},
   "outputs": [
    {
     "data": {
      "application/vnd.jupyter.widget-view+json": {
       "model_id": "02315f77634049a3bd428f3637f5cfe9",
       "version_major": 2,
       "version_minor": 0
      },
      "text/plain": [
       "VBox(children=(HBox(children=(ToggleButton(value=False, button_style='success', disabled=True, layout=Layout(h…"
      ]
     },
     "metadata": {},
     "output_type": "display_data"
    }
   ],
   "source": [
    "L = 8\n",
    "    \n",
    "def start(engine):\n",
    "    engine.get_terrain = get_terrain\n",
    "    engine.next_frame(engine)\n",
    "    \n",
    "\n",
    "def next_frame(engine):\n",
    "    for x in range(L):\n",
    "        for y in range(L):\n",
    "            #terrain = engine.get_terrain(x,y)\n",
    "            if engine.get_terrain(x,y) == 'grass':\n",
    "                engine.screen[x,y].button_style = 'success'\n",
    "            \n",
    "        \n",
    "engine = jupyter_widget_engine(start, next_frame, L=L)"
   ]
  },
  {
   "cell_type": "code",
   "execution_count": 37,
   "metadata": {},
   "outputs": [],
   "source": [
    "def get_terrain(x,y):\n",
    "\n",
    "    qc = QuantumCircuit(1,1) # make a circuit\n",
    "    \n",
    "    # perform rotations, whose angles depend on x and y\n",
    "    qc.rx( (np.pi/16)*(x+y) ,0)\n",
    "    qc.rx( (np.pi/16)*(x-y) ,0)\n",
    "    # calculate probability for outcome 1\n",
    "    qc.measure(0,0)\n",
    "    counts = execute(qc, Aer.get_backend('qasm_simulator'), shots=1000).result().get_counts()\n",
    "    if '1' in counts:\n",
    "        h = counts['1']/1000\n",
    "    else:\n",
    "        h = 0\n",
    "        \n",
    "    # return terrain depending on this probability\n",
    "    # the chosen values here are fairly arbitrarily\n",
    "    if h<0.3:\n",
    "        terrain = 'sea'\n",
    "    elif h<0.7:\n",
    "        terrain = 'sand'\n",
    "    else:\n",
    "        terrain = 'grass'\n",
    "        \n",
    "    return terrain"
   ]
  },
  {
   "cell_type": "code",
   "execution_count": 38,
   "metadata": {},
   "outputs": [
    {
     "data": {
      "application/vnd.jupyter.widget-view+json": {
       "model_id": "1b7ca7591fa447608f95291f1b1ecd67",
       "version_major": 2,
       "version_minor": 0
      },
      "text/plain": [
       "VBox(children=(HBox(children=(ToggleButton(value=False, button_style='info', disabled=True, layout=Layout(heig…"
      ]
     },
     "metadata": {},
     "output_type": "display_data"
    }
   ],
   "source": [
    "L = 8\n",
    "    \n",
    "def start(engine):\n",
    "    engine.get_terrain = get_terrain\n",
    "    engine.next_frame(engine)\n",
    "    \n",
    "\n",
    "def next_frame(engine):\n",
    "    for x in range(L):\n",
    "        for y in range(L):\n",
    "            terrain = engine.get_terrain(x,y)\n",
    "            if terrain == 'grass':\n",
    "                engine.screen[x,y].button_style = 'success'\n",
    "            elif terrain == 'sand':\n",
    "                engine.screen[x,y].button_style = 'warning'\n",
    "            else:\n",
    "                engine.screen[x,y].button_style = 'info'\n",
    "                \n",
    "                \n",
    "        \n",
    "engine = jupyter_widget_engine(start, next_frame, L=L)"
   ]
  },
  {
   "cell_type": "code",
   "execution_count": 42,
   "metadata": {},
   "outputs": [
    {
     "data": {
      "application/vnd.jupyter.widget-view+json": {
       "model_id": "cf8fe3d838d44369acd178f1186dca8e",
       "version_major": 2,
       "version_minor": 0
      },
      "text/plain": [
       "VBox(children=(HBox(children=(ToggleButton(value=False, button_style='info', disabled=True, layout=Layout(heig…"
      ]
     },
     "metadata": {},
     "output_type": "display_data"
    }
   ],
   "source": [
    "L = 8\n",
    "    \n",
    "def start(engine):\n",
    "    \n",
    "    engine.get_terrain = get_terrain\n",
    "    \n",
    "    engine.p_x = 4\n",
    "    engine.p_y = 4\n",
    "    \n",
    "    engine.next_frame(engine)\n",
    "    \n",
    "\n",
    "def next_frame(engine):\n",
    "\n",
    "        \n",
    "    if engine.controller['up'].value:\n",
    "        engine.p_y -= 1\n",
    "    if engine.controller['down'].value:\n",
    "        engine.p_y += 1\n",
    "    if engine.controller['left'].value:\n",
    "        engine.p_x -= 1\n",
    "    if engine.controller['right'].value:\n",
    "        engine.p_x += 1\n",
    "    \n",
    "    s_x = np.floor(engine.p_x/L)\n",
    "    s_y = np.floor(engine.p_y/L)\n",
    "    \n",
    "    \n",
    "\n",
    "    for x in range(L):\n",
    "        for y in range(L):\n",
    "            terrain = engine.get_terrain(L*s_x+x,L*s_y+y)\n",
    "            if terrain == 'grass':\n",
    "                engine.screen[x,y].button_style = 'success'\n",
    "            elif terrain == 'sand':\n",
    "                engine.screen[x,y].button_style = 'warning'\n",
    "            else:\n",
    "                engine.screen[x,y].button_style = 'info'\n",
    "                \n",
    "                \n",
    "    engine.screen[engine.p_x%L, engine.p_y%L].button_style = 'danger'\n",
    "        \n",
    "engine = jupyter_widget_engine(start, next_frame, L=L)"
   ]
  },
  {
   "cell_type": "code",
   "execution_count": null,
   "metadata": {},
   "outputs": [],
   "source": []
  }
 ],
 "metadata": {
  "kernelspec": {
   "display_name": "Python 3",
   "language": "python",
   "name": "python3"
  },
  "language_info": {
   "codemirror_mode": {
    "name": "ipython",
    "version": 3
   },
   "file_extension": ".py",
   "mimetype": "text/x-python",
   "name": "python",
   "nbconvert_exporter": "python",
   "pygments_lexer": "ipython3",
   "version": "3.7.5"
  }
 },
 "nbformat": 4,
 "nbformat_minor": 2
}
