{
 "cells": [
  {
   "cell_type": "markdown",
   "metadata": {},
   "source": [
    "## Some resources\n",
    "\n",
    "* https://www.quantum-inspire.com/kbase/hadamard/\n",
    "* https://www.quanta.guru/docs/circuits/hadamard/hadamard/\n",
    "* https://medium.com/qiskit/qiskit-backends-what-they-are-and-how-to-work-with-them-fb66b3bd0463\n",
    "* https://towardsdatascience.com/building-your-own-quantum-circuits-in-python-e9031b548fa7\n",
    "* https://towardsdatascience.com/quantum-computing-with-colorful-diagrams-8f7861cfb6da\n",
    "* https://qiskit.org/documentation/apidoc/aqua/circuits/gates/gates.html#qiskit.aqua.circuits.gates.logical_or\n",
    "* https://medium.com/qiskit/qiskit-backends-what-they-are-and-how-to-work-with-them-fb66b3bd0463\n",
    "\n",
    "\n",
    "### Quantum Machine Learning Notebooks EDX \n",
    "\n",
    "* https://github.com/q4quanta/Q-mlearning?fbclid=IwAR29fAeaRODNBD3BigDh5SZ5Xl09WWvQ-yQq--kaFW9gzKjGM0yxspEqcHo\n",
    "\n",
    "## Presentations and Slides\n",
    "* https://arcb.csc.ncsu.edu/~mueller/qc/qc-tut/circuits_and_algorithms.pdf\n",
    "\n",
    "## Articles\n",
    "* https://www.kaggle.com/ashishpatel26/quantum-computing-introduction-using-python \n"
   ]
  },
  {
   "cell_type": "code",
   "execution_count": null,
   "metadata": {},
   "outputs": [],
   "source": []
  }
 ],
 "metadata": {
  "kernelspec": {
   "display_name": "Python 3",
   "language": "python",
   "name": "python3"
  },
  "language_info": {
   "codemirror_mode": {
    "name": "ipython",
    "version": 3
   },
   "file_extension": ".py",
   "mimetype": "text/x-python",
   "name": "python",
   "nbconvert_exporter": "python",
   "pygments_lexer": "ipython3",
   "version": "3.7.5"
  }
 },
 "nbformat": 4,
 "nbformat_minor": 2
}
