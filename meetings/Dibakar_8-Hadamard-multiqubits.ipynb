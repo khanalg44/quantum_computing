{
 "cells": [
  {
   "cell_type": "markdown",
   "metadata": {},
   "source": [
    "# Hadamard Gate"
   ]
  },
  {
   "cell_type": "code",
   "execution_count": 1,
   "metadata": {},
   "outputs": [],
   "source": [
    "import matplotlib.pyplot as plt\n",
    "import numpy as np\n",
    "import pandas as pd\n",
    "import seaborn as sns\n",
    "sns.set()"
   ]
  },
  {
   "cell_type": "code",
   "execution_count": 2,
   "metadata": {},
   "outputs": [],
   "source": [
    "%matplotlib inline\n",
    "# Importing standard Qiskit libraries and configuring account\n",
    "from qiskit import QuantumCircuit, QuantumRegister,ClassicalRegister, execute, Aer, IBMQ\n",
    "from qiskit.compiler import transpile, assemble\n",
    "from qiskit.tools.jupyter import *\n",
    "from qiskit.visualization import *\n",
    "from qiskit.providers.aer import UnitarySimulator"
   ]
  },
  {
   "cell_type": "markdown",
   "metadata": {},
   "source": [
    "### 1. Hadamard Gate -1 qubit"
   ]
  },
  {
   "cell_type": "code",
   "execution_count": 3,
   "metadata": {},
   "outputs": [
    {
     "data": {
      "image/png": "[encoded data removed]",
      "text/plain": [
       "<Figure size 244.412x144.48 with 1 Axes>"
      ]
     },
     "execution_count": 3,
     "metadata": {},
     "output_type": "execute_result"
    }
   ],
   "source": [
    "n =1\n",
    "q = QuantumRegister(n)\n",
    "c = ClassicalRegister(n)\n",
    "circ = QuantumCircuit(q,c)\n",
    "circ.h(q[0])\n",
    "circ.measure(q,c)\n",
    "\n",
    "# Change the background color in mpl\n",
    "style = {'backgroundcolor': 'lightgreen'}\n",
    "circ.draw(output='mpl', style = style)"
   ]
  },
  {
   "cell_type": "markdown",
   "metadata": {},
   "source": [
    "- Initial state: |0>\n",
    "- After Hadamard Gate: $\\frac{1}{\\sqrt{2}}|0> + \\frac{1}{\\sqrt{2}}|1>$\n",
    "\n",
    "Tensor Algebra:\n",
    "\n",
    "- H = $\\frac{1}{\\sqrt{2}} \\begin{bmatrix}\n",
    "    1  & 1 \\\\\n",
    "    1 & -1\n",
    "\\end{bmatrix}$\n",
    "\n",
    "- |1> = $\\begin{bmatrix}\n",
    "    1  \\\\\n",
    "    0\n",
    "\\end{bmatrix}$ ; |0> = $\\begin{bmatrix}\n",
    "    0\\\\\n",
    "    1\n",
    "\\end{bmatrix}$\n"
   ]
  },
  {
   "cell_type": "code",
   "execution_count": 4,
   "metadata": {},
   "outputs": [
    {
     "data": {
      "image/png": "[encoded data removed]",
      "text/plain": [
       "<Figure size 144x144 with 1 Axes>"
      ]
     },
     "execution_count": 4,
     "metadata": {},
     "output_type": "execute_result"
    }
   ],
   "source": [
    "simulator = Aer.get_backend('qasm_simulator')\n",
    "result = execute(circ, simulator).result()\n",
    "counts = result.get_counts(circ)\n",
    "plot_histogram(counts, title='Bell-State counts', figsize = [2,2])"
   ]
  },
  {
   "cell_type": "markdown",
   "metadata": {},
   "source": [
    "-  Generate Unitary Matrix for the circuit"
   ]
  },
  {
   "cell_type": "code",
   "execution_count": 29,
   "metadata": {},
   "outputs": [
    {
     "name": "stdout",
     "output_type": "stream",
     "text": [
      "[[ 0.71  0.71]\n",
      " [ 0.71 -0.71]]\n",
      "\n",
      "[[ 0. -0.]\n",
      " [ 0.  0.]]\n"
     ]
    }
   ],
   "source": [
    "n =1\n",
    "q = QuantumRegister(n)\n",
    "c = ClassicalRegister(n)\n",
    "circ = QuantumCircuit(q,c)\n",
    "circ.h(q[0])\n",
    "# Select the UnitarySimulator from the Aer provider\n",
    "simulator = Aer.get_backend('unitary_simulator')\n",
    "# Execute and get counts\n",
    "result = execute(circ, simulator).result()\n",
    "unitary = result.get_unitary(circ)\n",
    "print( unitary.real.round(2))\n",
    "print ()\n",
    "print( unitary.imag.round(2))"
   ]
  },
  {
   "cell_type": "markdown",
   "metadata": {},
   "source": [
    "### 2. Hadamard Gate 2-qubit\n",
    "\n",
    "#### 2.1 Hadamard on First Qubit"
   ]
  },
  {
   "cell_type": "markdown",
   "metadata": {},
   "source": [
    "$I \\otimes H  =  \\begin{bmatrix}\n",
    "    1  &   0 \\\\\n",
    "    0  &   1\n",
    "\\end{bmatrix} \\otimes \\frac{1}{\\sqrt{2}} \\begin{bmatrix}\n",
    "    1  &   1 \\\\\n",
    "    1  &  -1\n",
    "\\end{bmatrix}  = \\frac{1}{\\sqrt{2}}\\begin{bmatrix}\n",
    "1 & 1 & 0 & 0\\\\\n",
    "1 & -1 & 0 & 0\\\\\n",
    "0 & 0 & 1 & 1 \\\\\n",
    "0 & 0 & 1 & -1\n",
    "\\end{bmatrix} $"
   ]
  },
  {
   "cell_type": "code",
   "execution_count": 13,
   "metadata": {},
   "outputs": [
    {
     "data": {
      "image/png": "[encoded data removed]",
      "text/plain": [
       "<Figure size 309.428x204.68 with 1 Axes>"
      ]
     },
     "execution_count": 13,
     "metadata": {},
     "output_type": "execute_result"
    }
   ],
   "source": [
    "n =2\n",
    "q = QuantumRegister(n)\n",
    "c = ClassicalRegister(n)\n",
    "circ = QuantumCircuit(q,c)\n",
    "circ.h(q[0])\n",
    "circ.measure(q,c)\n",
    "\n",
    "# Change the background color in mpl\n",
    "style = {'backgroundcolor': 'lightgreen'}\n",
    "circ.draw(output='mpl', style = style)"
   ]
  },
  {
   "cell_type": "code",
   "execution_count": 30,
   "metadata": {},
   "outputs": [
    {
     "name": "stdout",
     "output_type": "stream",
     "text": [
      "[[ 0.71  0.71  0.    0.  ]\n",
      " [ 0.71 -0.71  0.    0.  ]\n",
      " [ 0.    0.    0.71  0.71]\n",
      " [ 0.    0.    0.71 -0.71]]\n",
      "\n",
      "[[ 0. -0.  0.  0.]\n",
      " [ 0.  0.  0.  0.]\n",
      " [ 0.  0.  0. -0.]\n",
      " [ 0.  0.  0.  0.]]\n"
     ]
    }
   ],
   "source": [
    "n =2\n",
    "q = QuantumRegister(n)\n",
    "c = ClassicalRegister(n)\n",
    "circ = QuantumCircuit(q,c)\n",
    "circ.h(q[0])\n",
    "# Select the UnitarySimulator from the Aer provider\n",
    "simulator = Aer.get_backend('unitary_simulator')\n",
    "# Execute and get counts\n",
    "result = execute(circ, simulator).result()\n",
    "unitary = result.get_unitary(circ)\n",
    "print( unitary.real.round(2))\n",
    "print ()\n",
    "print( unitary.imag.round(2))"
   ]
  },
  {
   "cell_type": "markdown",
   "metadata": {},
   "source": [
    "----------"
   ]
  },
  {
   "cell_type": "markdown",
   "metadata": {},
   "source": [
    "#### 2.1 Hadamard on Second Qubit"
   ]
  },
  {
   "cell_type": "markdown",
   "metadata": {},
   "source": [
    "$H \\otimes I  = \\frac{1}{\\sqrt{2}} \\begin{bmatrix}\n",
    "    1  &   1 \\\\\n",
    "    1  &  -1\n",
    "\\end{bmatrix} \\otimes \\begin{bmatrix}\n",
    "    1  &   0 \\\\\n",
    "    0  &   1\n",
    "\\end{bmatrix}  = \\frac{1}{\\sqrt{2}}\\begin{bmatrix}\n",
    "1 & 0 & 1 & 0\\\\\n",
    "0 & 1 & 0 & 1\\\\\n",
    "1 & 0 & -1 & 0 \\\\\n",
    "0 & 1 & 0 & -1\n",
    "\\end{bmatrix} $"
   ]
  },
  {
   "cell_type": "code",
   "execution_count": 16,
   "metadata": {},
   "outputs": [
    {
     "data": {
      "image/png": "[encoded data removed]",
      "text/plain": [
       "<Figure size 380.464x204.68 with 1 Axes>"
      ]
     },
     "execution_count": 16,
     "metadata": {},
     "output_type": "execute_result"
    }
   ],
   "source": [
    "n =2\n",
    "q = QuantumRegister(n)\n",
    "c = ClassicalRegister(n)\n",
    "circ = QuantumCircuit(q,c)\n",
    "circ.h(q[1])\n",
    "circ.measure(q,c)\n",
    "\n",
    "# Change the background color in mpl\n",
    "style = {'backgroundcolor': 'lightgreen'}\n",
    "circ.draw(output='mpl', style = style)"
   ]
  },
  {
   "cell_type": "code",
   "execution_count": 31,
   "metadata": {},
   "outputs": [
    {
     "name": "stdout",
     "output_type": "stream",
     "text": [
      "[[ 0.71  0.    0.71  0.  ]\n",
      " [ 0.    0.71  0.    0.71]\n",
      " [ 0.71  0.   -0.71  0.  ]\n",
      " [ 0.    0.71  0.   -0.71]]\n",
      "\n",
      "[[ 0.  0. -0.  0.]\n",
      " [ 0.  0.  0. -0.]\n",
      " [ 0.  0.  0.  0.]\n",
      " [ 0.  0.  0.  0.]]\n"
     ]
    }
   ],
   "source": [
    "n =2\n",
    "q = QuantumRegister(n)\n",
    "c = ClassicalRegister(n)\n",
    "circ = QuantumCircuit(q,c)\n",
    "circ.h(q[1])\n",
    "# Select the UnitarySimulator from the Aer provider\n",
    "simulator = Aer.get_backend('unitary_simulator')\n",
    "# Execute and get counts\n",
    "result = execute(circ, simulator).result()\n",
    "unitary = result.get_unitary(circ)\n",
    "print( unitary.real.round(2))\n",
    "print ()\n",
    "print( unitary.imag.round(2))"
   ]
  },
  {
   "cell_type": "markdown",
   "metadata": {},
   "source": [
    "----------"
   ]
  },
  {
   "cell_type": "markdown",
   "metadata": {},
   "source": [
    "#### 2.3 Hadamard on Both Qubit"
   ]
  },
  {
   "cell_type": "markdown",
   "metadata": {},
   "source": [
    "$H \\otimes H $"
   ]
  },
  {
   "cell_type": "code",
   "execution_count": 20,
   "metadata": {},
   "outputs": [
    {
     "data": {
      "image/png": "[encoded data removed]",
      "text/plain": [
       "<Figure size 380.464x204.68 with 1 Axes>"
      ]
     },
     "execution_count": 20,
     "metadata": {},
     "output_type": "execute_result"
    }
   ],
   "source": [
    "n =2\n",
    "q = QuantumRegister(n)\n",
    "c = ClassicalRegister(n)\n",
    "circ = QuantumCircuit(q,c)\n",
    "circ.h(q[0])\n",
    "circ.h(q[1])\n",
    "circ.measure(q,c)\n",
    "\n",
    "# Change the background color in mpl\n",
    "style = {'backgroundcolor': 'lightgreen'}\n",
    "circ.draw(output='mpl', style = style)"
   ]
  },
  {
   "cell_type": "markdown",
   "metadata": {},
   "source": [
    "Manual Approach\n",
    "\n",
    "---------\n",
    "- Initial state: |00>\n",
    "- After Hadamard Gate: $\\frac{1}{\\sqrt{2}}|00> + \\frac{1}{\\sqrt{2}}|10>$\n",
    "- After Hadamard Gate: $\\frac{1}{{2}}|00> + \\frac{1}{{2}}|01>  +  \\frac{1}{{2}}|10> + \\frac{1}{{2}}|11>$\n",
    "\n",
    "---------\n",
    "- This is tensor product of two Hedamard transform:\n",
    "$H|0>_A \\otimes H|0>_B$\n",
    "- i.e., $(\\frac{1}{\\sqrt{2}}|0> + \\frac{1}{\\sqrt{2}}|1>) \\otimes (\\frac{1}{\\sqrt{2}}|0> + \\frac{1}{\\sqrt{2}}|1>) = \\frac{1}{{2}}|00> + \\frac{1}{{2}}|01>  +  \\frac{1}{{2}}|10> + \\frac{1}{{2}}|11>$\n",
    "\n",
    "\n"
   ]
  },
  {
   "cell_type": "markdown",
   "metadata": {},
   "source": [
    "Tensor Algebra: [source](https://quantumcomputing.stackexchange.com/questions/2270/how-to-input-2-qubits-in-2-hadamard-gates)\n",
    "\n",
    "---------\n",
    "\n",
    "- H operator in product space, $H_2 = H_1 \\otimes H_1$ :\n",
    "\n",
    "$\\frac{1}{\\sqrt{2}}\\begin{bmatrix}\n",
    "    1  &  1 \\\\\n",
    "    1  & -1\n",
    "\\end{bmatrix} \\otimes \\frac{1}{\\sqrt{2}}\\begin{bmatrix}\n",
    "    1  &  1 \\\\\n",
    "    1  & -1\n",
    "\\end{bmatrix} = \\frac{1}{2} \\begin{bmatrix}\n",
    "    1  &  1  &  1  &  1 \\\\\n",
    "    1  &  -1  &  1  &  -1 \\\\\n",
    "    1  &  1  &  -1  &  -1 \\\\\n",
    "    1  &  -1  &  -1  &  1 \\\\\n",
    "\\end{bmatrix}$\n",
    "\n",
    "- Basis States in product space, $|q_1q_2> = q_1 \\otimes q_2$ : \n",
    "\n",
    "|00> = $\\begin{bmatrix}\n",
    "    1  \\\\\n",
    "    0 \\\\\n",
    "    0\\\\\n",
    "    0\n",
    "\\end{bmatrix}$ ; |01> = $\\begin{bmatrix}\n",
    "    0\\\\\n",
    "    1\\\\\n",
    "    0\\\\\n",
    "    0\n",
    "\\end{bmatrix}$ ; |10> = $\\begin{bmatrix}\n",
    "    0  \\\\\n",
    "    0 \\\\\n",
    "    1\\\\\n",
    "    0\n",
    "\\end{bmatrix}$ ; |11> = $\\begin{bmatrix}\n",
    "    0\\\\\n",
    "    0\\\\\n",
    "    0\\\\\n",
    "    1\n",
    "\\end{bmatrix}$"
   ]
  },
  {
   "cell_type": "markdown",
   "metadata": {},
   "source": [
    "Linear transformation in product space:\n",
    "\n",
    "---------\n",
    "\n",
    "- Above transformation can be represented as :\n",
    "\n",
    "$H_2|00>$ = $\\frac{1}{{2}}|00> + \\frac{1}{{2}}|01>  +  \\frac{1}{{2}}|10> + \\frac{1}{{2}}|11>$\n",
    "\n",
    "- With above basis vector a atate $\\frac{1}{{2}}|00> + \\frac{1}{{2}}|01>  +  \\frac{1}{{2}}|10> + \\frac{1}{{2}}|11>$ can be expressed as: $\\begin{bmatrix}\n",
    "    \\frac{1}{2} \\\\\n",
    "    \\frac{1}{2} \\\\\n",
    "    \\frac{1}{2}\\\\\n",
    "    \\frac{1}{2}\n",
    "\\end{bmatrix}$ \n",
    "\n",
    "Thus in Matrix Form:\n",
    "\n",
    "$\\frac{1}{2} \\begin{bmatrix}\n",
    "    1  &  1  &  1  &  1 \\\\\n",
    "    1  &  -1  &  1  &  -1 \\\\\n",
    "    1  &  1  &  -1  &  -1 \\\\\n",
    "    1  &  -1  &  -1  &  1 \\\\\n",
    "\\end{bmatrix}$ $\\begin{bmatrix}  \n",
    "    1  \\\\\n",
    "    0 \\\\\n",
    "    0\\\\\n",
    "    0\n",
    "    \\end{bmatrix}$\n",
    "    = $\\begin{bmatrix}\n",
    "    \\frac{1}{2} \\\\\n",
    "    \\frac{1}{2} \\\\\n",
    "    \\frac{1}{2}\\\\\n",
    "    \\frac{1}{2}\n",
    "\\end{bmatrix}$"
   ]
  },
  {
   "cell_type": "markdown",
   "metadata": {},
   "source": [
    "- Tensor product of linear map:\n",
    "----------\n",
    "The tensor product also operates on linear maps between vector spaces. Specifically, given two linear maps $𝑆:𝑉→𝑋$ and $𝑇:𝑊→𝑌$ between vector spaces, the tensor product of the two linear maps 𝑆 and 𝑇 is a linear map\n",
    "- $(𝑆⊗𝑇)(𝑣⊗𝑤)=𝑆(𝑣)⊗𝑇(𝑤)$.\n",
    "\n",
    "Thus\n",
    "\n",
    "- $(H|0>_A)\\otimes(H|0>_B) = (H \\otimes H)(|0>_A\\otimes|0>_B)$\n",
    "    "
   ]
  },
  {
   "cell_type": "code",
   "execution_count": 21,
   "metadata": {},
   "outputs": [
    {
     "data": {
      "image/png": "[encoded data removed]",
      "text/plain": [
       "<Figure size 288x144 with 1 Axes>"
      ]
     },
     "execution_count": 21,
     "metadata": {},
     "output_type": "execute_result"
    }
   ],
   "source": [
    "simulator = Aer.get_backend('qasm_simulator')\n",
    "result = execute(circ, simulator).result()\n",
    "counts = result.get_counts(circ)\n",
    "plot_histogram(counts, title='Bell-State counts', figsize = [4,2])"
   ]
  },
  {
   "cell_type": "markdown",
   "metadata": {},
   "source": [
    "-  Generate Unitary Matrix for the circuit"
   ]
  },
  {
   "cell_type": "code",
   "execution_count": 32,
   "metadata": {},
   "outputs": [
    {
     "name": "stdout",
     "output_type": "stream",
     "text": [
      "[[ 0.5  0.5  0.5  0.5]\n",
      " [ 0.5 -0.5  0.5 -0.5]\n",
      " [ 0.5  0.5 -0.5 -0.5]\n",
      " [ 0.5 -0.5 -0.5  0.5]]\n",
      "\n",
      "[[ 0. -0. -0. -0.]\n",
      " [ 0.  0. -0.  0.]\n",
      " [ 0. -0.  0.  0.]\n",
      " [ 0.  0.  0. -0.]]\n"
     ]
    }
   ],
   "source": [
    "n =2\n",
    "q = QuantumRegister(n)\n",
    "c = ClassicalRegister(n)\n",
    "circ = QuantumCircuit(q,c)\n",
    "circ.h(q[0])\n",
    "circ.h(q[1])\n",
    "# Select the UnitarySimulator from the Aer provider\n",
    "simulator = Aer.get_backend('unitary_simulator')\n",
    "# Execute and get counts\n",
    "result = execute(circ, simulator).result()\n",
    "unitary = result.get_unitary(circ)\n",
    "print( unitary.real.round(2))\n",
    "print ()\n",
    "print( unitary.imag.round(2))"
   ]
  },
  {
   "cell_type": "markdown",
   "metadata": {},
   "source": [
    "### 3. Hadamard Gate 3-Qubit"
   ]
  },
  {
   "cell_type": "code",
   "execution_count": 23,
   "metadata": {},
   "outputs": [
    {
     "data": {
      "image/png": "[encoded data removed]",
      "text/plain": [
       "<Figure size 440.664x264.88 with 1 Axes>"
      ]
     },
     "execution_count": 23,
     "metadata": {},
     "output_type": "execute_result"
    }
   ],
   "source": [
    "n = 3\n",
    "q = QuantumRegister(n)\n",
    "c = ClassicalRegister(n)\n",
    "circ = QuantumCircuit(q,c)\n",
    "circ.h(q[0])\n",
    "circ.h(q[1])\n",
    "circ.h(q[2])\n",
    "circ.measure(q,c)\n",
    "\n",
    "# Change the background color in mpl\n",
    "style = {'backgroundcolor': 'lightgreen'}\n",
    "circ.draw(output='mpl', style = style)"
   ]
  },
  {
   "cell_type": "markdown",
   "metadata": {},
   "source": [
    "Manual Approach\n",
    "\n",
    "---------\n",
    "- Initial state: |000>\n",
    "- After Hadamard gate on first qubit: $\\frac{1}{\\sqrt{2}}|000> + \\frac{1}{\\sqrt{2}}|100>$\n",
    "- After Hadamard gate on second qubit: $\\frac{1}{{2}}|000> + \\frac{1}{{2}}|010>  +  \\frac{1}{{2}}|100> + \\frac{1}{{2}}|110>$\n",
    "- After Hadamard gate on third qubit: \n",
    "\n",
    "$\\frac{1}{2\\sqrt{2}}(|000>  + |001> + |010> + |011>  +  |100> +  |101> + |110> + |111>) $\n",
    "\n",
    "which is equivalent to \n",
    "\n",
    "$(\\frac{1}{\\sqrt{2}}|0> + \\frac{1}{\\sqrt{2}}|1>) \\otimes (\\frac{1}{\\sqrt{2}}|0> + \\frac{1}{\\sqrt{2}}|1>) \\otimes (\\frac{1}{\\sqrt{2}}|0> + \\frac{1}{\\sqrt{2}}|1>) $"
   ]
  },
  {
   "cell_type": "markdown",
   "metadata": {},
   "source": [
    "Tensor Algebra: [source](https://quantumcomputing.stackexchange.com/questions/2270/how-to-input-2-qubits-in-2-hadamard-gates)\n",
    "\n",
    "---------\n",
    "- H operator in product space: $H_3 = H_1 \\otimes H_1 \\otimes H_1  = H_2 \\otimes H_1$:\n",
    "\n",
    "$\\frac{1}{\\sqrt{2}}\\begin{bmatrix}\n",
    "    1  &  1 \\\\\n",
    "    1  & -1\n",
    "\\end{bmatrix} \\otimes \\frac{1}{\\sqrt{2}}\\begin{bmatrix}\n",
    "    1  &  1 \\\\\n",
    "    1  & -1\n",
    "\\end{bmatrix} \\otimes \\frac{1}{\\sqrt{2}}\\begin{bmatrix}\n",
    "    1  &  1 \\\\\n",
    "    1  & -1\n",
    "\\end{bmatrix}  = \\frac{1}{2} \\begin{bmatrix}\n",
    "    1  &  1  &  1  &  1 \\\\\n",
    "    1  &  -1  &  1  &  -1 \\\\\n",
    "    1  &  1  &  -1  &  -1 \\\\\n",
    "    1  &  -1  &  -1  &  1 \\\\\n",
    "\\end{bmatrix} \\otimes \\frac{1}{\\sqrt{2}}\\begin{bmatrix}\n",
    "    1  &  1 \\\\\n",
    "    1  & -1\n",
    "\\end{bmatrix}$\n",
    "\n",
    "=  $\\frac{1}{2\\sqrt{2}} \\begin{bmatrix}\n",
    "    1  &   1  &  1  &   1  &  1  &   1  &  1  &   1 \\\\\n",
    "    1  &  -1  &  1  &  -1  &  1  &  -1  &  1  &  -1 \\\\\n",
    "    1  &   1  & -1  &  -1  &  1  &   1  & -1  &  -1 \\\\\n",
    "    1  &  -1  & -1  &   1  &  1  &  -1  & -1  &   1 \\\\\n",
    "    1  &   1  &  1  &   1  &  -1  & -1  &  -1  & -1 \\\\\n",
    "    1  &  -1  &  1  &  -1  &  -1  &  1  &  -1  &  1 \\\\\n",
    "    1  &   1  & -1  &  -1  &  -1  &   -1  &  1  &   1 \\\\\n",
    "    1  &  -1  & -1  &   1  &  -1  &    1  &  1  &  -1 \\\\\n",
    "\\end{bmatrix}$\n",
    "\n"
   ]
  },
  {
   "cell_type": "markdown",
   "metadata": {},
   "source": [
    "- Basis states in product space: $ |q_1q_2q_3> = q_1 \\otimes q_2 \\otimes q_3$ : \n",
    "    \n",
    "|000> = $\\begin{bmatrix}\n",
    "    1  \\\\\n",
    "    0 \\\\\n",
    "    0\\\\\n",
    "    0\\\\\n",
    "    0\\\\\n",
    "    0\\\\\n",
    "    0\\\\\n",
    "    0\\\\\n",
    "\\end{bmatrix}$ ; |001> = $\\begin{bmatrix}\n",
    "    0\\\\\n",
    "    1\\\\\n",
    "    0\\\\\n",
    "    0\\\\\n",
    "    0\\\\\n",
    "    0\\\\\n",
    "    0\\\\\n",
    "    0\n",
    "\\end{bmatrix}$; |010> = $\\begin{bmatrix}\n",
    "    0\\\\\n",
    "    0\\\\\n",
    "    1\\\\\n",
    "    0\\\\\n",
    "    0\\\\\n",
    "    0\\\\\n",
    "    0\\\\\n",
    "    0\n",
    "\\end{bmatrix}$; |011> = $\\begin{bmatrix}\n",
    "    0\\\\\n",
    "    0\\\\\n",
    "    0\\\\\n",
    "    1\\\\\n",
    "    0\\\\\n",
    "    0\\\\\n",
    "    0\\\\\n",
    "    0\n",
    "\\end{bmatrix}$;\n",
    "\n",
    "|100> = $\\begin{bmatrix}\n",
    "    0\\\\\n",
    "    0\\\\\n",
    "    0\\\\\n",
    "    0\\\\\n",
    "    1\\\\\n",
    "    0\\\\\n",
    "    0\\\\\n",
    "    0\n",
    "\\end{bmatrix}$; |101> = $\\begin{bmatrix}\n",
    "    0\\\\\n",
    "    0\\\\\n",
    "    0\\\\\n",
    "    0\\\\\n",
    "    0\\\\\n",
    "    1\\\\\n",
    "    0\\\\\n",
    "    0\n",
    "\\end{bmatrix}$; |110> = $\\begin{bmatrix}\n",
    "    0\\\\\n",
    "    0\\\\\n",
    "    0\\\\\n",
    "    0\\\\\n",
    "    0\\\\\n",
    "    0\\\\\n",
    "    1\\\\\n",
    "    0\n",
    "\\end{bmatrix}$; |111> = $\\begin{bmatrix}\n",
    "    0\\\\\n",
    "    0\\\\\n",
    "    0\\\\\n",
    "    0\\\\\n",
    "    0\\\\\n",
    "    0\\\\\n",
    "    0\\\\\n",
    "    1\n",
    "\\end{bmatrix}$; "
   ]
  },
  {
   "cell_type": "markdown",
   "metadata": {},
   "source": [
    "Above transformation can be represented as :\n",
    "\n",
    "$H_3|000>$ = $\\frac{1}{2\\sqrt{2}}|000>  + \\frac{1}{2\\sqrt{2}}|001> + \\frac{1}{2\\sqrt{2}}|010> + \\frac{1}{2\\sqrt{2}}|011>  +  \\frac{1}{2\\sqrt{2}}|100> +  \\frac{1}{2\\sqrt{2}}|101> + \\frac{1}{2\\sqrt{2}}|110> + \\frac{1}{2\\sqrt{2}}|111>$"
   ]
  },
  {
   "cell_type": "markdown",
   "metadata": {},
   "source": [
    "- With above basis vector a state $\\frac{1}{2\\sqrt{2}}|000>  + \\frac{1}{2\\sqrt{2}}|001> + \\frac{1}{2\\sqrt{2}}|010> + \\frac{1}{2\\sqrt{2}}|011>  +  \\frac{1}{2\\sqrt{2}}|100> +  \\frac{1}{2\\sqrt{2}}|101> + \\frac{1}{2\\sqrt{2}}|110> + \\frac{1}{2\\sqrt{2}}|111>$ can be expressed as:\n",
    "\n",
    "$\\begin{bmatrix}\n",
    "    \\frac{1}{2\\sqrt{2}} \\\\\n",
    "    \\frac{1}{2\\sqrt{2}} \\\\\n",
    "    \\frac{1}{2\\sqrt{2}}\\\\\n",
    "    \\frac{1}{2\\sqrt{2}}\\\\\n",
    "    \\frac{1}{2\\sqrt{2}} \\\\\n",
    "    \\frac{1}{2\\sqrt{2}} \\\\\n",
    "    \\frac{1}{2\\sqrt{2}}\\\\\n",
    "    \\frac{1}{2\\sqrt{2}}\n",
    "\\end{bmatrix}$ \n",
    "\n",
    "Thus in Matrix Form:\n",
    "\n",
    "$H_3|000> = \\frac{1}{2\\sqrt{2}} \\begin{bmatrix}\n",
    "    1  &   1  &  1  &   1  &  1  &   1  &  1  &   1 \\\\\n",
    "    1  &  -1  &  1  &  -1  &  1  &  -1  &  1  &  -1 \\\\\n",
    "    1  &   1  & -1  &  -1  &  1  &   1  & -1  &  -1 \\\\\n",
    "    1  &  -1  & -1  &   1  &  1  &  -1  & -1  &   1 \\\\\n",
    "    1  &   1  &  1  &   1  &  -1  & -1  &  -1  & -1 \\\\\n",
    "    1  &  -1  &  1  &  -1  &  -1  &  1  &  -1  &  1 \\\\\n",
    "    1  &   1  & -1  &  -1  &  -1  &   -1  &  1  &   1 \\\\\n",
    "    1  &  -1  & -1  &   1  &  -1  &    1  &  1  &  -1 \\\\\n",
    "\\end{bmatrix}$ $\\begin{bmatrix}  \n",
    "    1  \\\\\n",
    "    0 \\\\\n",
    "    0\\\\\n",
    "    0\\\\\n",
    "    0\\\\\n",
    "    0\\\\\n",
    "    0\\\\\n",
    "    0\n",
    "    \\end{bmatrix}\n",
    "    = \\begin{bmatrix}\n",
    "    \\frac{1}{2\\sqrt{2}} \\\\\n",
    "    \\frac{1}{2\\sqrt{2}} \\\\\n",
    "    \\frac{1}{2\\sqrt{2}}\\\\\n",
    "    \\frac{1}{2\\sqrt{2}}\\\\\n",
    "    \\frac{1}{2\\sqrt{2}} \\\\\n",
    "    \\frac{1}{2\\sqrt{2}} \\\\\n",
    "    \\frac{1}{2\\sqrt{2}}\\\\\n",
    "    \\frac{1}{2\\sqrt{2}}\n",
    "\\end{bmatrix} $"
   ]
  },
  {
   "cell_type": "code",
   "execution_count": 24,
   "metadata": {},
   "outputs": [
    {
     "data": {
      "image/png": "[encoded data removed]",
      "text/plain": [
       "<Figure size 432x144 with 1 Axes>"
      ]
     },
     "execution_count": 24,
     "metadata": {},
     "output_type": "execute_result"
    }
   ],
   "source": [
    "simulator = Aer.get_backend('qasm_simulator')\n",
    "result = execute(circ, simulator).result()\n",
    "counts = result.get_counts(circ)\n",
    "plot_histogram(counts, title='Bell-State counts',figsize = [6,2])"
   ]
  },
  {
   "cell_type": "markdown",
   "metadata": {},
   "source": [
    "-  Generate Unitary Matrix for the circuit"
   ]
  },
  {
   "cell_type": "code",
   "execution_count": 33,
   "metadata": {},
   "outputs": [
    {
     "name": "stdout",
     "output_type": "stream",
     "text": [
      "[[ 0.35  0.35  0.35  0.35  0.35  0.35  0.35  0.35]\n",
      " [ 0.35 -0.35  0.35 -0.35  0.35 -0.35  0.35 -0.35]\n",
      " [ 0.35  0.35 -0.35 -0.35  0.35  0.35 -0.35 -0.35]\n",
      " [ 0.35 -0.35 -0.35  0.35  0.35 -0.35 -0.35  0.35]\n",
      " [ 0.35  0.35  0.35  0.35 -0.35 -0.35 -0.35 -0.35]\n",
      " [ 0.35 -0.35  0.35 -0.35 -0.35  0.35 -0.35  0.35]\n",
      " [ 0.35  0.35 -0.35 -0.35 -0.35 -0.35  0.35  0.35]\n",
      " [ 0.35 -0.35 -0.35  0.35 -0.35  0.35  0.35 -0.35]]\n",
      "\n",
      "[[ 0. -0. -0. -0. -0. -0. -0. -0.]\n",
      " [ 0.  0. -0.  0. -0.  0. -0.  0.]\n",
      " [ 0. -0.  0.  0. -0. -0.  0.  0.]\n",
      " [ 0.  0.  0. -0. -0.  0.  0. -0.]\n",
      " [ 0. -0. -0. -0.  0.  0.  0.  0.]\n",
      " [ 0.  0. -0.  0.  0. -0.  0. -0.]\n",
      " [ 0. -0.  0.  0.  0.  0. -0. -0.]\n",
      " [ 0.  0.  0. -0.  0. -0. -0.  0.]]\n"
     ]
    }
   ],
   "source": [
    "n =3\n",
    "q = QuantumRegister(n)\n",
    "c = ClassicalRegister(n)\n",
    "circ = QuantumCircuit(q,c)\n",
    "circ.h(q[0])\n",
    "circ.h(q[1])\n",
    "circ.h(q[2])\n",
    "# Select the UnitarySimulator from the Aer provider\n",
    "simulator = Aer.get_backend('unitary_simulator')\n",
    "# Execute and get counts\n",
    "result = execute(circ, simulator).result()\n",
    "unitary = result.get_unitary(circ)\n",
    "print( unitary.real.round(2))\n",
    "print ()\n",
    "print( unitary.imag.round(2))"
   ]
  },
  {
   "cell_type": "markdown",
   "metadata": {},
   "source": [
    "### 4. Hadamard - 6 Qubits"
   ]
  },
  {
   "cell_type": "code",
   "execution_count": 34,
   "metadata": {},
   "outputs": [
    {
     "data": {
      "image/png": "[encoded data removed]",
      "text/plain": [
       "<Figure size 621.264x445.48 with 1 Axes>"
      ]
     },
     "execution_count": 34,
     "metadata": {},
     "output_type": "execute_result"
    }
   ],
   "source": [
    "n = 6\n",
    "q = QuantumRegister(n)\n",
    "c = ClassicalRegister(n)\n",
    "circ = QuantumCircuit(q,c)\n",
    "for k in range(n):\n",
    "    circ.h(q[k])\n",
    "    \n",
    "circ.measure(q,c)\n",
    "\n",
    "# Change the background color in mpl\n",
    "style = {'backgroundcolor': 'lightpink'}\n",
    "circ.draw(output='mpl', style = style)"
   ]
  },
  {
   "cell_type": "markdown",
   "metadata": {},
   "source": [
    "- Total 256 states"
   ]
  },
  {
   "cell_type": "code",
   "execution_count": 35,
   "metadata": {},
   "outputs": [],
   "source": [
    "simulator = Aer.get_backend('qasm_simulator')"
   ]
  },
  {
   "cell_type": "code",
   "execution_count": 36,
   "metadata": {},
   "outputs": [
    {
     "data": {
      "image/png": "[encoded data removed]",
      "text/plain": [
       "<Figure size 1440x288 with 1 Axes>"
      ]
     },
     "execution_count": 36,
     "metadata": {},
     "output_type": "execute_result"
    }
   ],
   "source": [
    "result = execute(circ, simulator).result()\n",
    "counts = result.get_counts(circ)\n",
    "plot_histogram(counts, title='Bell-State counts', figsize = [20,4])"
   ]
  },
  {
   "cell_type": "markdown",
   "metadata": {},
   "source": [
    "-  Generate Unitary Matrix for the circuit"
   ]
  },
  {
   "cell_type": "code",
   "execution_count": 37,
   "metadata": {
    "scrolled": false
   },
   "outputs": [
    {
     "name": "stdout",
     "output_type": "stream",
     "text": [
      "[[ 0.13  0.13  0.13 ...  0.12  0.12  0.12]\n",
      " [ 0.13 -0.13  0.13 ... -0.12  0.12 -0.12]\n",
      " [ 0.13  0.13 -0.13 ...  0.12 -0.12 -0.12]\n",
      " ...\n",
      " [ 0.12 -0.12  0.12 ... -0.13  0.13 -0.13]\n",
      " [ 0.12  0.12 -0.12 ...  0.13 -0.13 -0.13]\n",
      " [ 0.12 -0.12 -0.12 ... -0.13 -0.13  0.13]]\n",
      "\n",
      "[[ 0. -0. -0. ... -0. -0. -0.]\n",
      " [ 0.  0. -0. ...  0. -0.  0.]\n",
      " [ 0. -0.  0. ... -0.  0.  0.]\n",
      " ...\n",
      " [ 0.  0. -0. ...  0. -0.  0.]\n",
      " [ 0. -0.  0. ... -0.  0.  0.]\n",
      " [ 0.  0.  0. ...  0.  0. -0.]]\n"
     ]
    }
   ],
   "source": [
    "n =6\n",
    "q = QuantumRegister(n)\n",
    "c = ClassicalRegister(n)\n",
    "circ = QuantumCircuit(q,c)\n",
    "\n",
    "for k in range(n):\n",
    "    circ.h(q[k])\n",
    "    \n",
    "# Select the UnitarySimulator from the Aer provider\n",
    "simulator = Aer.get_backend('unitary_simulator')\n",
    "# Execute and get counts\n",
    "result = execute(circ, simulator).result()\n",
    "unitary = result.get_unitary(circ)\n",
    "\n",
    "print( unitary.real.round(2))\n",
    "print ()\n",
    "print( unitary.imag.round(2))"
   ]
  },
  {
   "cell_type": "code",
   "execution_count": 38,
   "metadata": {},
   "outputs": [
    {
     "data": {
      "text/plain": [
       "(64, 64)"
      ]
     },
     "execution_count": 38,
     "metadata": {},
     "output_type": "execute_result"
    }
   ],
   "source": [
    "unitary.shape"
   ]
  },
  {
   "cell_type": "markdown",
   "metadata": {},
   "source": [
    "The End"
   ]
  },
  {
   "cell_type": "markdown",
   "metadata": {},
   "source": [
    "### 5.  N - Hadamard Gate: Hadamard Transformation"
   ]
  },
  {
   "cell_type": "markdown",
   "metadata": {},
   "source": [
    "\n",
    "$H_{2}$ performs the Hadamard transform on two qubits. Similary the gate \n",
    "\n",
    "${\\displaystyle \\underbrace {H\\otimes H\\otimes \\dots \\otimes H} _{n{\\text{ times}}}=\\bigotimes _{1}^{n}H=H^{\\otimes n}=H_{n}}$\n",
    "\n",
    "performs a Hadamard transform on a register of ${\\displaystyle n}$ qubits.\n",
    "\n",
    "When applied to a register of ${\\displaystyle n}$ qubits all initialized to ${\\displaystyle |0\\rangle }$ , the Hadamard transform puts the quantum register into a superposition with equal probability of being measured in any of its ${\\displaystyle 2^{n}}$ possible states:\n",
    "\n",
    "${\\displaystyle \\bigotimes _{0}^{n-1}H\\bigotimes _{0}^{n-1}|0\\rangle ={\\frac {1}{\\sqrt {2^{n}}}}{\\begin{bmatrix}1\\\\1\\\\\\vdots \\\\1\\end{bmatrix}}={\\frac {1}{\\sqrt {2^{n}}}}{\\Big (}|0\\rangle +|1\\rangle +\\dots +|2^{n}-1\\rangle {\\Big )}={\\frac {1}{\\sqrt {2^{n}}}}\\sum _{i=0}^{2^{n}-1}|i\\rangle } ~~~~~~~~~~------~~~~~~~(1)$\n",
    "\n",
    "Measuring this state results in a random number between ${\\displaystyle 0}$ and ${\\displaystyle 2^{n}-1}$. How random the number is depends on the fidelity of the logic gates. If not measured, it is a quantum state with equal probability amplitude ${\\displaystyle {\\frac {1}{\\sqrt {2^{n}}}}}$ for each of its possible states.\n",
    "\n",
    "The Hadamard transform acts on a register ${\\displaystyle |\\psi \\rangle }$  with ${\\displaystyle n}$ qubits such that ${\\displaystyle |\\psi \\rangle =\\bigotimes _{i=0}^{n-1}|\\psi _{i}\\rangle }$ as follows: \n",
    "\n",
    "${\\displaystyle \\bigotimes _{0}^{n-1}H|\\psi \\rangle =\\bigotimes _{i=0}^{n-1}{\\frac {|0\\rangle +(-1)^{\\psi _{i}}|1\\rangle }{\\sqrt {2}}}={\\frac {1}{\\sqrt {2^{n}}}}\\bigotimes _{i=0}^{n-1}{\\Big (}|0\\rangle +(-1)^{\\psi _{i}}|1\\rangle {\\Big )}=H|\\psi _{0}\\rangle \\otimes H|\\psi _{1}\\rangle \\otimes \\cdots \\otimes H|\\psi _{n-1}\\rangle }$\n",
    "\n"
   ]
  },
  {
   "cell_type": "markdown",
   "metadata": {},
   "source": [
    "#### Note\n",
    "\n",
    "- Tensor product of linear map:\n",
    "\n",
    "The tensor product also operates on linear maps between vector spaces. Specifically, given two linear maps $𝑆:𝑉→𝑋$ and $𝑇:𝑊→𝑌$ between vector spaces, the tensor product of the two linear maps 𝑆 and 𝑇 is a linear map\n",
    "- $(𝑆⊗𝑇)(𝑣⊗𝑤)=𝑆(𝑣)⊗𝑇(𝑤)$.\n",
    "\n",
    "Thus\n",
    "\n",
    "- $(H|0\\rangle_A)\\otimes(H|0\\rangle_B) = (H \\otimes H)(|0\\rangle_A\\otimes|0\\rangle_B)$\n",
    "    "
   ]
  },
  {
   "cell_type": "markdown",
   "metadata": {},
   "source": [
    "### 6.  Structure of $H_{n}$"
   ]
  },
  {
   "cell_type": "markdown",
   "metadata": {},
   "source": [
    "The Hadamard transform Hm is a 2m × 2m matrix, the Hadamard matrix (scaled by a normalization factor), that transforms 2m real numbers xn into 2m real numbers Xk. The Hadamard transform can be defined in two ways: recursively, or by using the binary (base-2) representation of the indices n and k.\n",
    "\n",
    "Recursively, we define the 1 × 1 Hadamard transform H0 by the identity H0 = 1, and then define Hm for m > 0 by:\n",
    "\n",
    "${\\displaystyle H_{m}={\\frac {1}{\\sqrt {2}}}{\\begin{pmatrix}H_{m-1}&H_{m-1}\\\\H_{m-1}&-H_{m-1}\\end{pmatrix}}}$\n",
    "\n",
    "where the 1/√2 is a normalization that is sometimes omitted.\n",
    "\n",
    "For m > 1, we can also define Hm by:\n",
    "\n",
    "${\\displaystyle H_{m}=H_{1}\\otimes H_{m-1}}$\n",
    "where {\\displaystyle \\otimes }  represents the Kronecker product. Thus, other than this normalization factor, the Hadamard matrices are made up entirely of 1 and −1.\n",
    "\n",
    "Equivalently, we can define the Hadamard matrix by its (k, n)-th entry by writing\n",
    "\n",
    "${\\displaystyle {\\begin{aligned}k&=\\sum _{i=0}^{m-1}{k_{i}2^{i}}=k_{m-1}2^{m-1}+k_{m-2}2^{m-2}+\\cdots +k_{1}2+k_{0}\\\\n&=\\sum _{i=0}^{m-1}{n_{i}2^{i}}=n_{m-1}2^{m-1}+n_{m-2}2^{m-2}+\\cdots +n_{1}2+n_{0}\\end{aligned}}}$\n",
    "\n",
    "where the kj and nj are the binary digits (0 or 1) of k and n, respectively. Note that for the element in the top left corner, we define: ${\\displaystyle k=n=0}$. In this case, we have:\n",
    "\n",
    "${\\displaystyle \\left(H_{m}\\right)_{k,n}={\\frac {1}{2^{\\frac {m}{2}}}}(-1)^{\\sum _{j}k_{j}n_{j}}}\\left(H_{m}\\right)_{k,n}={\\frac {1}{2^{\\frac {m}{2}}}}(-1)^{\\sum _{j}k_{j}n_{j}}$\n",
    "\n",
    "This is exactly the multidimensional ${\\displaystyle \\scriptstyle 2\\,\\times \\,2\\,\\times \\,\\cdots \\,\\times \\,2\\,\\times \\,2}$ DFT, normalized to be unitary, if the inputs and outputs are regarded as multidimensional arrays indexed by the nj and kj, respectively.\n",
    "\n",
    "Some examples of the Hadamard matrices follow.\n",
    "\n",
    "${\\displaystyle {\\begin{aligned}H_{0}=+&{\\begin{pmatrix}{\\begin{array}{r}1\\end{array}}\\end{pmatrix}}\\\\H_{1}={\\frac {1}{\\sqrt {2}}}&{\\begin{pmatrix}{\\begin{array}{rr}1&1\\\\1&-1\\end{array}}\\end{pmatrix}}\\\\H_{2}={\\frac {1}{2}}&{\\begin{pmatrix}{\\begin{array}{rrrr}1&1&1&1\\\\1&-1&1&-1\\\\1&1&-1&-1\\\\1&-1&-1&1\\end{array}}\\end{pmatrix}}\\\\H_{3}={\\frac {1}{2^{\\frac {3}{2}}}}&{\\begin{pmatrix}{\\begin{array}{rrrrrrrr}1&1&1&1&1&1&1&1\\\\1&-1&1&-1&1&-1&1&-1\\\\1&1&-1&-1&1&1&-1&-1\\\\1&-1&-1&1&1&-1&-1&1\\\\1&1&1&1&-1&-1&-1&-1\\\\1&-1&1&-1&-1&1&-1&1\\\\1&1&-1&-1&-1&-1&1&1\\\\1&-1&-1&1&-1&1&1&-1\\end{array}}\\end{pmatrix}}\\\\\\left(H_{n}\\right)_{i,j}={\\frac {1}{2^{\\frac {n}{2}}}}&(-1)^{i\\cdot j}\\end{aligned}}}$\n",
    "\n",
    "\n",
    "\n",
    "where ${\\displaystyle i\\cdot j}i\\cdot j$ is the bitwise dot product of the binary representations of the numbers i and j. For example, if ${\\displaystyle \\scriptstyle n\\;\\geq \\;2}$ then ${\\displaystyle \\scriptstyle \\left(H_{n}\\right)_{3,2}\\;=\\;(-1)^{3\\cdot 2}\\;=\\;(-1)^{(1,1)\\cdot (1,0)}\\;=\\;(-1)^{1+0}\\;=\\;(-1)^{1}\\;=\\;-1}$ agreeing with the above (ignoring the overall constant). Note that the first row, first column element of the matrix is denoted by ${\\displaystyle \\scriptstyle \\left(H_{n}\\right)_{0,0}}$.\n",
    "\n",
    "H1 is precisely the size-2 DFT. It can also be regarded as the Fourier transform on the two-element additive group of Z/(2).\n",
    "\n",
    "The rows of the Hadamard matrices are the Walsh functions."
   ]
  },
  {
   "cell_type": "code",
   "execution_count": null,
   "metadata": {},
   "outputs": [],
   "source": []
  },
  {
   "cell_type": "code",
   "execution_count": null,
   "metadata": {},
   "outputs": [],
   "source": []
  }
 ],
 "metadata": {
  "kernelspec": {
   "display_name": "Python 3",
   "language": "python",
   "name": "python3"
  },
  "language_info": {
   "codemirror_mode": {
    "name": "ipython",
    "version": 3
   },
   "file_extension": ".py",
   "mimetype": "text/x-python",
   "name": "python",
   "nbconvert_exporter": "python",
   "pygments_lexer": "ipython3",
   "version": "3.7.5"
  }
 },
 "nbformat": 4,
 "nbformat_minor": 2
}
