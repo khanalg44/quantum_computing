{
 "cells": [
  {
   "cell_type": "markdown",
   "metadata": {},
   "source": [
    "# Basics of QUBO\n",
    "\n",
    "few commands for the dwave setup\n",
    "\n",
    "* dwave setup\n",
    "* dwave config create\n",
    "* dwave ping\n",
    "* dwave solvers\n",
    "\n",
    "the token is written in the file dwave_api_token\n"
   ]
  },
  {
   "cell_type": "markdown",
   "metadata": {
    "scrolled": false
   },
   "source": [
    "### Installation\n",
    "!pip3 install dwave-ocean-sdk\n",
    "\n",
    "#reference\n",
    "* Git https://github.com/dwavesystems/dwave-ocean-sdk\n",
    "* https://readthedocs.com/projects/d-wave-systems-dimod/downloads/pdf/latest/?fbclid=IwAR0NrC5wUGEvtuLvPkWxlFEHlVrtwdw8Ahw8Z8NHR2d92rjHK8mdz0CrIEQ\n",
    "* https://docs.ocean.dwavesys.com/en/stable/"
   ]
  },
  {
   "cell_type": "code",
   "execution_count": 1,
   "metadata": {},
   "outputs": [],
   "source": [
    "import dimod\n",
    "import numpy as np\n",
    "import pylab as plt"
   ]
  },
  {
   "cell_type": "markdown",
   "metadata": {},
   "source": [
    "The QUBO form, $E(𝑎_𝑖, 𝑏_{𝑖,𝑗} ; 𝑞_{𝑖}) = −𝑞_1 − 𝑞_2 + 2𝑞_1 𝑞_2$ , is related to the Ising form, \n",
    "\n",
    "$E(ℎ_𝑖, 𝑗_{𝑖,𝑗}; 𝑠_𝑖) = \\frac{1}{2} (𝑠_1𝑠_2 − 1)$, via\n",
    "\n",
    "the simple manipulation $𝑠_𝑖 = 2𝑞_𝑖 − 1$.\n"
   ]
  },
  {
   "cell_type": "code",
   "execution_count": 19,
   "metadata": {},
   "outputs": [],
   "source": [
    "linear = {0: -1, 1: -1}\n",
    "quadratic = {(0, 1): 2}\n",
    "bqm = dimod.BinaryQuadraticModel(linear, quadratic, 0.0, dimod.BINARY)  # 0.0 is the value for offset\n",
    "bqm_ising = bqm.change_vartype(dimod.SPIN, inplace=False)"
   ]
  },
  {
   "cell_type": "code",
   "execution_count": 20,
   "metadata": {},
   "outputs": [],
   "source": [
    "response = dimod.ExactSolver().sample(bqm)\n",
    "for sample, energy in response.data(['sample', 'energy']):\n",
    "    print(sample, energy)"
   ]
  },
  {
   "cell_type": "code",
   "execution_count": 23,
   "metadata": {},
   "outputs": [
    {
     "name": "stdout",
     "output_type": "stream",
     "text": [
      "offset= 0.0\n",
      "{0: 1, 1: 0} -1.0\n",
      "{0: 0, 1: 1} -1.0\n",
      "{0: 0, 1: 0} 0.0\n",
      "{0: 1, 1: 1} 0.0\n",
      "offset= 1.0\n",
      "{0: 1, 1: 0} 0.0\n",
      "{0: 0, 1: 1} 0.0\n",
      "{0: 0, 1: 0} 1.0\n",
      "{0: 1, 1: 1} 1.0\n",
      "offset= 10\n",
      "{0: 1, 1: 0} 9.0\n",
      "{0: 0, 1: 1} 9.0\n",
      "{0: 0, 1: 0} 10.0\n",
      "{0: 1, 1: 1} 10.0\n"
     ]
    }
   ],
   "source": [
    "def Test_offset_values(offset):\n",
    "    linear = {0: -1, 1: -1}\n",
    "    quadratic = {(0, 1): 2}\n",
    "    bqm = dimod.BinaryQuadraticModel(linear, quadratic, offset, dimod.BINARY)  # 0.0 is the value for offset\n",
    "    bqm_ising = bqm.change_vartype(dimod.SPIN, inplace=False)\n",
    "    response = dimod.ExactSolver().sample(bqm)\n",
    "    for sample, energy in response.data(['sample', 'energy']):\n",
    "        print(sample, energy)\n",
    "        \n",
    "for offset in [0., 1., 10]:\n",
    "    print ('offset=',offset)\n",
    "    Test_offset_values(offset)\n",
    "    \n",
    "    "
   ]
  },
  {
   "cell_type": "code",
   "execution_count": null,
   "metadata": {},
   "outputs": [],
   "source": []
  },
  {
   "cell_type": "markdown",
   "metadata": {},
   "source": [
    "## Boolean AND gate\n",
    "* reference: https://docs.ocean.dwavesys.com/en/stable/examples/and.html\n",
    "\n",
    "For this example, the penalty function is quadratic, and easily reordered in the familiar QUBO formulation:\n",
    "\n",
    "$𝐸(𝑞_𝑖,𝑞_{i,j};𝑥_𝑖)=3𝑥_3+𝑥_1𝑥_2−2𝑥_1𝑥_3−2𝑥_2𝑥_3$\n",
    "where $𝑧=𝑥_3$ is the AND gate’s output, $𝑥_1,𝑥_2$ the inputs, linear coefficients are 𝑞1=3, and quadratic coefficients are 𝑞1,2=1,𝑞1,3=−2,𝑞2,3=−2. "
   ]
  },
  {
   "cell_type": "code",
   "execution_count": 26,
   "metadata": {},
   "outputs": [
    {
     "ename": "ValueError",
     "evalue": "API token not defined",
     "output_type": "error",
     "traceback": [
      "\u001b[0;31m---------------------------------------------------------------------------\u001b[0m",
      "\u001b[0;31mValueError\u001b[0m                                Traceback (most recent call last)",
      "\u001b[0;32m<ipython-input-26-590a107e528e>\u001b[0m in \u001b[0;36m<module>\u001b[0;34m\u001b[0m\n\u001b[1;32m      3\u001b[0m \u001b[0;32mfrom\u001b[0m \u001b[0mdwave\u001b[0m\u001b[0;34m.\u001b[0m\u001b[0msystem\u001b[0m \u001b[0;32mimport\u001b[0m \u001b[0mDWaveSampler\u001b[0m\u001b[0;34m,\u001b[0m \u001b[0mEmbeddingComposite\u001b[0m\u001b[0;34m\u001b[0m\u001b[0;34m\u001b[0m\u001b[0m\n\u001b[1;32m      4\u001b[0m \u001b[0;34m\u001b[0m\u001b[0m\n\u001b[0;32m----> 5\u001b[0;31m \u001b[0msampler\u001b[0m \u001b[0;34m=\u001b[0m \u001b[0mDWaveSampler\u001b[0m\u001b[0;34m(\u001b[0m\u001b[0;34m)\u001b[0m\u001b[0;34m\u001b[0m\u001b[0;34m\u001b[0m\u001b[0m\n\u001b[0m\u001b[1;32m      6\u001b[0m \u001b[0;34m\u001b[0m\u001b[0m\n\u001b[1;32m      7\u001b[0m \u001b[0;31m#from dwave.system import DWaveSampler, EmbeddingComposite\u001b[0m\u001b[0;34m\u001b[0m\u001b[0;34m\u001b[0m\u001b[0;34m\u001b[0m\u001b[0m\n",
      "\u001b[0;32m/usr/local/lib/python3.7/site-packages/dwave/system/samplers/dwave_sampler.py\u001b[0m in \u001b[0;36m__init__\u001b[0;34m(self, failover, retry_interval, **config)\u001b[0m\n\u001b[1;32m    162\u001b[0m             \u001b[0mconfig\u001b[0m\u001b[0;34m[\u001b[0m\u001b[0;34m'solver'\u001b[0m\u001b[0;34m]\u001b[0m \u001b[0;34m=\u001b[0m \u001b[0mconfig\u001b[0m\u001b[0;34m.\u001b[0m\u001b[0mpop\u001b[0m\u001b[0;34m(\u001b[0m\u001b[0;34m'solver_features'\u001b[0m\u001b[0;34m)\u001b[0m\u001b[0;34m\u001b[0m\u001b[0;34m\u001b[0m\u001b[0m\n\u001b[1;32m    163\u001b[0m \u001b[0;34m\u001b[0m\u001b[0m\n\u001b[0;32m--> 164\u001b[0;31m         \u001b[0mself\u001b[0m\u001b[0;34m.\u001b[0m\u001b[0mclient\u001b[0m \u001b[0;34m=\u001b[0m \u001b[0mClient\u001b[0m\u001b[0;34m.\u001b[0m\u001b[0mfrom_config\u001b[0m\u001b[0;34m(\u001b[0m\u001b[0;34m**\u001b[0m\u001b[0mconfig\u001b[0m\u001b[0;34m)\u001b[0m\u001b[0;34m\u001b[0m\u001b[0;34m\u001b[0m\u001b[0m\n\u001b[0m\u001b[1;32m    165\u001b[0m         \u001b[0mself\u001b[0m\u001b[0;34m.\u001b[0m\u001b[0msolver\u001b[0m \u001b[0;34m=\u001b[0m \u001b[0mself\u001b[0m\u001b[0;34m.\u001b[0m\u001b[0mclient\u001b[0m\u001b[0;34m.\u001b[0m\u001b[0mget_solver\u001b[0m\u001b[0;34m(\u001b[0m\u001b[0;34m)\u001b[0m\u001b[0;34m\u001b[0m\u001b[0;34m\u001b[0m\u001b[0m\n\u001b[1;32m    166\u001b[0m \u001b[0;34m\u001b[0m\u001b[0m\n",
      "\u001b[0;32m/usr/local/lib/python3.7/site-packages/dwave/cloud/client.py\u001b[0m in \u001b[0;36mfrom_config\u001b[0;34m(cls, config_file, profile, client, endpoint, token, solver, proxy, headers, legacy_config_fallback, **kwargs)\u001b[0m\n\u001b[1;32m    345\u001b[0m \u001b[0;34m\u001b[0m\u001b[0m\n\u001b[1;32m    346\u001b[0m         \u001b[0mlogger\u001b[0m\u001b[0;34m.\u001b[0m\u001b[0mdebug\u001b[0m\u001b[0;34m(\u001b[0m\u001b[0;34m\"Final config used for %s.Client(): %r\"\u001b[0m\u001b[0;34m,\u001b[0m \u001b[0m_client\u001b[0m\u001b[0;34m,\u001b[0m \u001b[0mconfig\u001b[0m\u001b[0;34m)\u001b[0m\u001b[0;34m\u001b[0m\u001b[0;34m\u001b[0m\u001b[0m\n\u001b[0;32m--> 347\u001b[0;31m         \u001b[0;32mreturn\u001b[0m \u001b[0m_clients\u001b[0m\u001b[0;34m[\u001b[0m\u001b[0m_client\u001b[0m\u001b[0;34m]\u001b[0m\u001b[0;34m(\u001b[0m\u001b[0;34m**\u001b[0m\u001b[0mconfig\u001b[0m\u001b[0;34m)\u001b[0m\u001b[0;34m\u001b[0m\u001b[0;34m\u001b[0m\u001b[0m\n\u001b[0m\u001b[1;32m    348\u001b[0m \u001b[0;34m\u001b[0m\u001b[0m\n\u001b[1;32m    349\u001b[0m     def __init__(self, endpoint=None, token=None, solver=None, proxy=None,\n",
      "\u001b[0;32m/usr/local/lib/python3.7/site-packages/dwave/cloud/client.py\u001b[0m in \u001b[0;36m__init__\u001b[0;34m(self, endpoint, token, solver, proxy, permissive_ssl, request_timeout, polling_timeout, connection_close, headers, **kwargs)\u001b[0m\n\u001b[1;32m    375\u001b[0m \u001b[0;34m\u001b[0m\u001b[0m\n\u001b[1;32m    376\u001b[0m         \u001b[0;32mif\u001b[0m \u001b[0;32mnot\u001b[0m \u001b[0mtoken\u001b[0m\u001b[0;34m:\u001b[0m\u001b[0;34m\u001b[0m\u001b[0;34m\u001b[0m\u001b[0m\n\u001b[0;32m--> 377\u001b[0;31m             \u001b[0;32mraise\u001b[0m \u001b[0mValueError\u001b[0m\u001b[0;34m(\u001b[0m\u001b[0;34m\"API token not defined\"\u001b[0m\u001b[0;34m)\u001b[0m\u001b[0;34m\u001b[0m\u001b[0;34m\u001b[0m\u001b[0m\n\u001b[0m\u001b[1;32m    378\u001b[0m \u001b[0;34m\u001b[0m\u001b[0m\n\u001b[1;32m    379\u001b[0m         logger.debug(\n",
      "\u001b[0;31mValueError\u001b[0m: API token not defined"
     ]
    }
   ],
   "source": [
    "Q = {('x1', 'x2'): 1, ('x1', 'z'): -2, ('x2', 'z'): -2, ('z', 'z'): 3}\n",
    "\n",
    "from dwave.system import DWaveSampler, EmbeddingComposite\n",
    "\n",
    "sampler = DWaveSampler()\n",
    "\n",
    "#from dwave.system import DWaveSampler, EmbeddingComposite\n",
    "#sampler = DWaveSampler()\n",
    "#sampler_embedded = EmbeddingComposite(sampler)"
   ]
  },
  {
   "cell_type": "code",
   "execution_count": 2,
   "metadata": {},
   "outputs": [],
   "source": [
    "\n",
    "linear = {1: 1, 2: 2, 3: 3, 4: 4}  # linear term in the Ising hamiltonian h_i s_i terms\n",
    "# And the quadratic terms s_i \\dot s_j terms\n",
    "quadratic = {(1, 2): 12, (1, 3): 13, (1, 4): 14,  \n",
    "             (2, 3): 23, (2, 4): 24,\n",
    "             (3, 4): 34}\n",
    "bqm_k4 = dimod.BinaryQuadraticModel(linear, quadratic, 0.5, dimod.SPIN)"
   ]
  },
  {
   "cell_type": "code",
   "execution_count": 3,
   "metadata": {},
   "outputs": [
    {
     "data": {
      "text/plain": [
       "<Vartype.SPIN: frozenset({1, -1})>"
      ]
     },
     "execution_count": 3,
     "metadata": {},
     "output_type": "execute_result"
    }
   ],
   "source": [
    "#bqm_k4\n",
    "bqm_k4.vartype"
   ]
  },
  {
   "cell_type": "code",
   "execution_count": null,
   "metadata": {},
   "outputs": [],
   "source": [
    "import dimod\n",
    ">>> linear = {1: 1, 2: 2, 3: 3, 4: 4}\n",
    ">>> quadratic = {(1, 2): 12, (1, 3): 13, (1, 4): 14,\n",
    "...              (2, 3): 23, (2, 4): 24,\n",
    "...              (3, 4): 34}\n",
    ">>> bqm_k4 = dimod.BinaryQuadraticModel(linear, quadratic, 0.5, dimod.SPIN)\n",
    ">>> bqm_k4.vartype\n",
    "<Vartype.SPIN: frozenset([1, -1])>\n",
    ">>> len(bqm_k4.linear)\n",
    "4\n",
    ">>> bqm_k4.contract_variables(2, 3)\n",
    ">>> len(bqm_k4.linear)\n",
    "3\n",
    ">>> bqm_no3_qubo = bqm_k4.binary"
   ]
  }
 ],
 "metadata": {
  "kernelspec": {
   "display_name": "Python 3",
   "language": "python",
   "name": "python3"
  },
  "language_info": {
   "codemirror_mode": {
    "name": "ipython",
    "version": 3
   },
   "file_extension": ".py",
   "mimetype": "text/x-python",
   "name": "python",
   "nbconvert_exporter": "python",
   "pygments_lexer": "ipython3",
   "version": "3.7.5"
  }
 },
 "nbformat": 4,
 "nbformat_minor": 2
}
