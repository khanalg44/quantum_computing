{
 "cells": [
  {
   "cell_type": "code",
   "execution_count": null,
   "metadata": {},
   "outputs": [],
   "source": []
  },
  {
   "cell_type": "markdown",
   "metadata": {
    "scrolled": false
   },
   "source": [
    "# Installation\n",
    "!pip3 install dwave-ocean-sdk\n",
    "\n",
    "#reference\n",
    "* Git https://github.com/dwavesystems/dwave-ocean-sdk\n",
    "* https://readthedocs.com/projects/d-wave-systems-dimod/downloads/pdf/latest/?fbclid=IwAR0NrC5wUGEvtuLvPkWxlFEHlVrtwdw8Ahw8Z8NHR2d92rjHK8mdz0CrIEQ\n",
    "* https://docs.ocean.dwavesys.com/en/stable/"
   ]
  },
  {
   "cell_type": "code",
   "execution_count": 4,
   "metadata": {},
   "outputs": [],
   "source": [
    "import dimod\n",
    "import numpy as np\n",
    "import pylab as plt\n"
   ]
  },
  {
   "cell_type": "code",
   "execution_count": 5,
   "metadata": {},
   "outputs": [],
   "source": [
    "linear = {1: 1, 2: 2, 3: 3, 4: 4}\n",
    "quadratic = {(1, 2): 12, (1, 3): 13, (1, 4): 14,\n",
    "             (2, 3): 23, (2, 4): 24,\n",
    "             (3, 4): 34}\n",
    "bqm_k4 = dimod.BinaryQuadraticModel(linear, quadratic, 0.5, dimod.SPIN)"
   ]
  },
  {
   "cell_type": "code",
   "execution_count": 8,
   "metadata": {},
   "outputs": [
    {
     "data": {
      "text/plain": [
       "<Vartype.SPIN: frozenset({1, -1})>"
      ]
     },
     "execution_count": 8,
     "metadata": {},
     "output_type": "execute_result"
    }
   ],
   "source": [
    "#bqm_k4\n",
    "bqm_k4.vartype"
   ]
  },
  {
   "cell_type": "code",
   "execution_count": null,
   "metadata": {},
   "outputs": [],
   "source": [
    "import dimod\n",
    ">>> linear = {1: 1, 2: 2, 3: 3, 4: 4}\n",
    ">>> quadratic = {(1, 2): 12, (1, 3): 13, (1, 4): 14,\n",
    "...              (2, 3): 23, (2, 4): 24,\n",
    "...              (3, 4): 34}\n",
    ">>> bqm_k4 = dimod.BinaryQuadraticModel(linear, quadratic, 0.5, dimod.SPIN)\n",
    ">>> bqm_k4.vartype\n",
    "<Vartype.SPIN: frozenset([1, -1])>\n",
    ">>> len(bqm_k4.linear)\n",
    "4\n",
    ">>> bqm_k4.contract_variables(2, 3)\n",
    ">>> len(bqm_k4.linear)\n",
    "3\n",
    ">>> bqm_no3_qubo = bqm_k4.binary"
   ]
  }
 ],
 "metadata": {
  "kernelspec": {
   "display_name": "Python 3",
   "language": "python",
   "name": "python3"
  },
  "language_info": {
   "codemirror_mode": {
    "name": "ipython",
    "version": 3
   },
   "file_extension": ".py",
   "mimetype": "text/x-python",
   "name": "python",
   "nbconvert_exporter": "python",
   "pygments_lexer": "ipython3",
   "version": "3.7.5"
  }
 },
 "nbformat": 4,
 "nbformat_minor": 2
}
