{
 "cells": [
  {
   "cell_type": "markdown",
   "metadata": {},
   "source": [
    "# Intro to DWave\n",
    "\n",
    "jgottalieb@dwavesys.com\n",
    "\n",
    "## problem:\n",
    "Imagine a group of n people (n=even) asssign them to two groups (with values 0 and 1 in QUBO and +1 and -1 in Ising) such that the interaction between the two groups is minimum.\n",
    "\n",
    "We can create a table like following:\n",
    "\n",
    "|$x_i$ | $x_j$| connection|\n",
    "|---|---|----|\n",
    "| 0 | 0 | Good| \n",
    "| 0 | 1 | Bad | \n",
    "| 1 | 0 | Bad | \n",
    "| 1 | 1 | Good | \n",
    "\n",
    "So we can imagine variables $x_i$ and $x_j$ such that we want to minimise the sum of $\\sum_i x_i =4$ as we want equal number in each sides and 4 1s and 4 0s will make it 4. Think about this the solution might look like a straight line crossing the x axis at x=4 but this is not a good solution as we can't have negative solution. So the simplest we can think of is a parabola with a minimum at x=4. \n",
    "\n",
    "<img='figs/joel_talk_1.png'>\n"
   ]
  },
  {
   "cell_type": "code",
   "execution_count": null,
   "metadata": {},
   "outputs": [],
   "source": []
  }
 ],
 "metadata": {
  "kernelspec": {
   "display_name": "Python 3",
   "language": "python",
   "name": "python3"
  },
  "language_info": {
   "codemirror_mode": {
    "name": "ipython",
    "version": 3
   },
   "file_extension": ".py",
   "mimetype": "text/x-python",
   "name": "python",
   "nbconvert_exporter": "python",
   "pygments_lexer": "ipython3",
   "version": "3.7.5"
  }
 },
 "nbformat": 4,
 "nbformat_minor": 2
}
