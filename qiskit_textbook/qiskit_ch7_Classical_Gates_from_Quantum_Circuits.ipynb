{
 "cells": [
  {
   "cell_type": "markdown",
   "metadata": {},
   "source": [
    "# Classical Logic Gates with Quantum Circuits\n",
    "\n",
    "## NOT gate:\n",
    "\n",
    "NOT gate Operation:\n",
    "\n",
    "    NOT(0)=1\n",
    "    NOT(1)=0\n"
   ]
  },
  {
   "cell_type": "code",
   "execution_count": 1,
   "metadata": {},
   "outputs": [],
   "source": [
    "from qiskit import QuantumRegister, ClassicalRegister\n",
    "from qiskit import QuantumCircuit, execute, Aer, IBMQ\n",
    "from qiskit.visualization import plot_histogram, plot_bloch_multivector\n",
    "\n",
    "import numpy as np\n",
    "import pylab as plt\n",
    "\n"
   ]
  },
  {
   "cell_type": "code",
   "execution_count": 4,
   "metadata": {},
   "outputs": [
    {
     "data": {
      "text/plain": [
       "{'0': 1000}"
      ]
     },
     "execution_count": 4,
     "metadata": {},
     "output_type": "execute_result"
    }
   ],
   "source": [
    "def NOT(input_bit):\n",
    "    \n",
    "    # initialize the QC\n",
    "    q = QuantumRegister(1)\n",
    "    c = ClassicalRegister(1)\n",
    "    qc = QuantumCircuit(q,c)\n",
    "    \n",
    "    # for input 1 flip the q[0] to 1\n",
    "    if input_bit=='1':\n",
    "        qc.x(q[0])\n",
    "\n",
    "    # now do a NOT gate by flipping the q[0]\n",
    "    qc.x(q[0])\n",
    "    qc.measure( q[0], c[0] )\n",
    "    # now exectue the circuit\n",
    "    backend = Aer.get_backend('qasm_simulator')\n",
    "    counts = execute(qc,backend,shots=1000).result().get_counts()\n",
    "    \n",
    "    return counts\n",
    "    \n",
    "NOT('1')  "
   ]
  },
  {
   "cell_type": "markdown",
   "metadata": {},
   "source": [
    "### XOR Gate\n",
    "Gate Operation : outputs 0 if the inputs are equal otherwise 1.\n",
    "\n",
    "    XOR(0,0)= 0\n",
    "    XOR(0,1)= 1\n",
    "    XOR(1,0)= 1\n",
    "    XOR(1,1)= 0"
   ]
  },
  {
   "cell_type": "code",
   "execution_count": 19,
   "metadata": {},
   "outputs": [
    {
     "data": {
      "text/plain": [
       "'0'"
      ]
     },
     "execution_count": 19,
     "metadata": {},
     "output_type": "execute_result"
    }
   ],
   "source": [
    "def XOR(input1, input2):\n",
    "    \n",
    "    # initialize the QC\n",
    "    q = QuantumRegister(2)\n",
    "    c = ClassicalRegister(1)\n",
    "    qc = QuantumCircuit(q,c)\n",
    "    \n",
    "    ####################################\n",
    "    # \n",
    "    # DO something here... \n",
    "    # the code in the book doesn't do anything\n",
    "    # so it gives 0 always irrespective of the inputs\n",
    "    ####################################\n",
    "\n",
    "    \n",
    "    qc.measure( q[1], c[0] )\n",
    "    # now exectue the circuit\n",
    "    backend = Aer.get_backend('qasm_simulator')\n",
    "    \n",
    "    counts = execute(qc,backend,shots=1000, memory=True).result().get_memory()[0]\n",
    "    \n",
    "    return counts\n",
    "    \n",
    "XOR('1', '1')"
   ]
  },
  {
   "cell_type": "markdown",
   "metadata": {},
   "source": [
    "### AND Gate\n",
    "Gate Operation : outputs 1 if both the inputs are 1, otherwise 1.\n",
    "\n",
    "    XOR(0,0)= 0\n",
    "    XOR(0,1)= 0\n",
    "    XOR(1,0)= 0\n",
    "    XOR(1,1)= 1"
   ]
  },
  {
   "cell_type": "code",
   "execution_count": null,
   "metadata": {},
   "outputs": [],
   "source": [
    "def AND(input1, input2):\n",
    "    \n",
    "    # initialize the QC\n",
    "    q = QuantumRegister(3)\n",
    "    c = ClassicalRegister(1)\n",
    "    qc = QuantumCircuit(q,c)\n",
    "    \n",
    "    ####################################    \n",
    "    # \n",
    "    # DO something here... \n",
    "    # the code in the book only gives 0 always \n",
    "    ####################################\n",
    "    \n",
    "    qc.measure( q[2], c[0] )\n",
    "    # now exectue the circuit\n",
    "    backend = Aer.get_backend('qasm_simulator')\n",
    "    \n",
    "    counts = execute(qc,backend,shots=1000, memory=True).result().get_memory()[0]\n",
    "    \n",
    "    return counts\n",
    "    \n",
    "XOR('1', '1')"
   ]
  },
  {
   "cell_type": "code",
   "execution_count": null,
   "metadata": {},
   "outputs": [],
   "source": [
    "def AND(input1,input2):\n",
    "    \n",
    "    q = QuantumRegister(3) # two qubits in which to encode the input, and one for the output\n",
    "    c = ClassicalRegister(1) # a bit to store the output\n",
    "    qc = QuantumCircuit(q, c) # this is where the quantum program goes\n",
    "    \n",
    "    # YOUR QUANTUM PROGRAM GOES HERE\n",
    "    qc.measure(q[2],c[0]) # YOU CAN CHANGE THIS IF YOU WANT TO\n",
    "    \n",
    "    # We'll run the program on a simulator\n",
    "    backend = Aer.get_backend('qasm_simulator')\n",
    "    # Since the output will be deterministic, we can use just a single shot to get it\n",
    "    job = execute(qc,backend,shots=1,memory=True)\n",
    "    output = job.result().get_memory()[0]\n",
    "    \n",
    "    return output"
   ]
  }
 ],
 "metadata": {
  "kernelspec": {
   "display_name": "Python 3",
   "language": "python",
   "name": "python3"
  },
  "language_info": {
   "codemirror_mode": {
    "name": "ipython",
    "version": 3
   },
   "file_extension": ".py",
   "mimetype": "text/x-python",
   "name": "python",
   "nbconvert_exporter": "python",
   "pygments_lexer": "ipython3",
   "version": "3.8.4"
  }
 },
 "nbformat": 4,
 "nbformat_minor": 4
}
