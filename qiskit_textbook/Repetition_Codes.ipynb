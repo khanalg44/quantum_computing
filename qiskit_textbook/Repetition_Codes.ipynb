{
 "cells": [
  {
   "cell_type": "markdown",
   "metadata": {},
   "source": [
    "# Repetition Codes\n",
    "[Repetition Codes from Qiskit Tutorial](https://github.com/Qiskit/qiskit-tutorials/blob/master/tutorials/noise/6_repetition_code.ipynb)"
   ]
  },
  {
   "cell_type": "code",
   "execution_count": 33,
   "metadata": {},
   "outputs": [],
   "source": [
    "from qiskit import QuantumRegister, QuantumCircuit, execute, Aer\n"
   ]
  },
  {
   "cell_type": "code",
   "execution_count": 4,
   "metadata": {},
   "outputs": [
    {
     "name": "stdout",
     "output_type": "stream",
     "text": [
      "                         \n",
      "code\\_qubit_0: ──■───────\n",
      "                 │       \n",
      "code\\_qubit_1: ──┼────■──\n",
      "               ┌─┴─┐┌─┴─┐\n",
      "link\\_qubit_0: ┤ X ├┤ X ├\n",
      "               └───┘└───┘\n"
     ]
    },
    {
     "data": {
      "image/png": "[encoded data removed]",
      "text/plain": [
       "<Figure size 406.952x204.68 with 1 Axes>"
      ]
     },
     "execution_count": 4,
     "metadata": {},
     "output_type": "execute_result"
    }
   ],
   "source": [
    "cq = QuantumRegister(2,'code\\_qubit')\n",
    "lq = QuantumRegister(1,'link\\_qubit')\n",
    "qc = QuantumCircuit(cq,lq)\n",
    "qc.cx(cq[0],lq[0])\n",
    "qc.cx(cq[1],lq[0])\n",
    "print(qc)\n",
    "qc.draw('mpl')"
   ]
  },
  {
   "cell_type": "code",
   "execution_count": 5,
   "metadata": {},
   "outputs": [],
   "source": [
    "from qiskit.ignis.verification.topological_codes import RepetitionCode\n",
    "from qiskit.ignis.verification.topological_codes import GraphDecoder\n",
    "from qiskit.ignis.verification.topological_codes import lookuptable_decoding, postselection_decoding"
   ]
  },
  {
   "cell_type": "code",
   "execution_count": 18,
   "metadata": {},
   "outputs": [],
   "source": [
    "d = 2\n",
    "T = 1\n",
    "code = RepetitionCode(d,T)"
   ]
  },
  {
   "cell_type": "code",
   "execution_count": 7,
   "metadata": {},
   "outputs": [
    {
     "data": {
      "text/plain": [
       "{'0': <qiskit.circuit.quantumcircuit.QuantumCircuit at 0x11cafc370>,\n",
       " '1': <qiskit.circuit.quantumcircuit.QuantumCircuit at 0x11cafca00>}"
      ]
     },
     "execution_count": 7,
     "metadata": {},
     "output_type": "execute_result"
    }
   ],
   "source": [
    "code.circuit"
   ]
  },
  {
   "cell_type": "code",
   "execution_count": 13,
   "metadata": {},
   "outputs": [
    {
     "name": "stdout",
     "output_type": "stream",
     "text": [
      "code_bits: ClassicalRegister(3, 'code_bit')  d= 3  T= 2\n"
     ]
    }
   ],
   "source": [
    "print ( 'code_bits:', code.code_bit, ' d=', code.d, ' T=', code.T)"
   ]
  },
  {
   "cell_type": "code",
   "execution_count": 15,
   "metadata": {},
   "outputs": [
    {
     "data": {
      "text/plain": [
       "{'code_qubit', 'link_qubit'}"
      ]
     },
     "execution_count": 15,
     "metadata": {},
     "output_type": "execute_result"
    }
   ],
   "source": [
    "code.qubit_registers"
   ]
  },
  {
   "cell_type": "code",
   "execution_count": 16,
   "metadata": {},
   "outputs": [
    {
     "data": {
      "text/plain": [
       "QuantumRegister(3, 'code_qubit')"
      ]
     },
     "execution_count": 16,
     "metadata": {},
     "output_type": "execute_result"
    }
   ],
   "source": [
    "code.code_qubit"
   ]
  },
  {
   "cell_type": "code",
   "execution_count": 19,
   "metadata": {},
   "outputs": [
    {
     "name": "stdout",
     "output_type": "stream",
     "text": [
      "\n",
      "========= logical 0 =========\n",
      "\n",
      "                    ┌───┐┌───┐   ┌─┐   \n",
      "      link_qubit_0: ┤ X ├┤ X ├───┤M├───\n",
      "                    └─┬─┘└─┬─┘┌─┐└╥┘   \n",
      "      code_qubit_0: ──■────┼──┤M├─╫────\n",
      "                           │  └╥┘ ║ ┌─┐\n",
      "      code_qubit_1: ───────■───╫──╫─┤M├\n",
      "                               ║  ║ └╥┘\n",
      "round_0_link_bit_0: ═══════════╬══╩══╬═\n",
      "                               ║     ║ \n",
      "        code_bit_0: ═══════════╩═════╬═\n",
      "                                     ║ \n",
      "        code_bit_1: ═════════════════╩═\n",
      "                                       \n",
      "\n",
      "========= logical 1 =========\n",
      "\n",
      "                         ┌───┐┌───┐   ┌─┐   \n",
      "      link_qubit_0: ─────┤ X ├┤ X ├───┤M├───\n",
      "                    ┌───┐└─┬─┘└─┬─┘┌─┐└╥┘   \n",
      "      code_qubit_0: ┤ X ├──■────┼──┤M├─╫────\n",
      "                    ├───┤       │  └╥┘ ║ ┌─┐\n",
      "      code_qubit_1: ┤ X ├───────■───╫──╫─┤M├\n",
      "                    └───┘           ║  ║ └╥┘\n",
      "round_0_link_bit_0: ════════════════╬══╩══╬═\n",
      "                                    ║     ║ \n",
      "        code_bit_0: ════════════════╩═════╬═\n",
      "                                          ║ \n",
      "        code_bit_1: ══════════════════════╩═\n",
      "                                            \n"
     ]
    }
   ],
   "source": [
    "for bit in ['0','1']:\n",
    "    print('\\n========= logical',bit,'=========\\n')\n",
    "    print( code.circuit[bit] )"
   ]
  },
  {
   "cell_type": "code",
   "execution_count": 21,
   "metadata": {},
   "outputs": [
    {
     "name": "stdout",
     "output_type": "stream",
     "text": [
      "\n",
      "========= logical 0 =========\n",
      "\n",
      "                    ┌───┐┌───┐   ┌─┐   \n",
      "      link_qubit_0: ┤ X ├┤ X ├───┤M├───\n",
      "                    └─┬─┘└─┬─┘┌─┐└╥┘   \n",
      "      code_qubit_0: ──■────┼──┤M├─╫────\n",
      "                           │  └╥┘ ║ ┌─┐\n",
      "      code_qubit_1: ───────■───╫──╫─┤M├\n",
      "                               ║  ║ └╥┘\n",
      "round_0_link_bit_0: ═══════════╬══╩══╬═\n",
      "                               ║     ║ \n",
      "        code_bit_0: ═══════════╩═════╬═\n",
      "                                     ║ \n",
      "        code_bit_1: ═════════════════╩═\n",
      "                                       \n",
      "\n",
      "========= logical 1 =========\n",
      "\n",
      "                         ┌───┐┌───┐   ┌─┐   \n",
      "      link_qubit_0: ─────┤ X ├┤ X ├───┤M├───\n",
      "                    ┌───┐└─┬─┘└─┬─┘┌─┐└╥┘   \n",
      "      code_qubit_0: ┤ X ├──■────┼──┤M├─╫────\n",
      "                    ├───┤       │  └╥┘ ║ ┌─┐\n",
      "      code_qubit_1: ┤ X ├───────■───╫──╫─┤M├\n",
      "                    └───┘           ║  ║ └╥┘\n",
      "round_0_link_bit_0: ════════════════╬══╩══╬═\n",
      "                                    ║     ║ \n",
      "        code_bit_0: ════════════════╩═════╬═\n",
      "                                          ║ \n",
      "        code_bit_1: ══════════════════════╩═\n",
      "                                            \n"
     ]
    }
   ],
   "source": [
    "d = 2\n",
    "T = 1\n",
    "code = RepetitionCode(d,T)\n",
    "\n",
    "for bit in ['0','1']:\n",
    "    print('\\n========= logical',bit,'=========\\n')\n",
    "    print( code.circuit[bit] )"
   ]
  },
  {
   "cell_type": "code",
   "execution_count": 27,
   "metadata": {},
   "outputs": [],
   "source": [
    "empty_code = RepetitionCode(3,0)"
   ]
  },
  {
   "cell_type": "code",
   "execution_count": 28,
   "metadata": {},
   "outputs": [
    {
     "name": "stdout",
     "output_type": "stream",
     "text": [
      "\n",
      "========= logical 0 =========\n",
      "\n",
      "              \n",
      "link_qubit_0: \n",
      "              \n",
      "link_qubit_1: \n",
      "              \n",
      "code_qubit_0: \n",
      "              \n",
      "code_qubit_1: \n",
      "              \n",
      "code_qubit_2: \n",
      "              \n",
      "\n",
      "========= logical 1 =========\n",
      "\n",
      "                   \n",
      "link_qubit_0: ─────\n",
      "                   \n",
      "link_qubit_1: ─────\n",
      "              ┌───┐\n",
      "code_qubit_0: ┤ X ├\n",
      "              ├───┤\n",
      "code_qubit_1: ┤ X ├\n",
      "              ├───┤\n",
      "code_qubit_2: ┤ X ├\n",
      "              └───┘\n"
     ]
    }
   ],
   "source": [
    "def print_circuits(code):\n",
    "    for log in ['0','1']:\n",
    "        print('\\n========= logical',log,'=========\\n')\n",
    "        print( code.circuit[log] )\n",
    "            \n",
    "print_circuits(empty_code)"
   ]
  },
  {
   "cell_type": "code",
   "execution_count": 29,
   "metadata": {
    "scrolled": false
   },
   "outputs": [
    {
     "name": "stdout",
     "output_type": "stream",
     "text": [
      "\n",
      "========= logical 0 =========\n",
      "\n",
      "                    ┌───┐     ┌───┐     ┌─┐          \n",
      "      link_qubit_0: ┤ X ├─────┤ X ├─────┤M├─|0>──────\n",
      "                    └─┬─┘┌───┐└─┬─┘┌───┐└╥┘ ┌─┐      \n",
      "      link_qubit_1: ──┼──┤ X ├──┼──┤ X ├─╫──┤M├──|0>─\n",
      "                      │  └─┬─┘  │  └─┬─┘ ║  └╥┘      \n",
      "      code_qubit_0: ──■────┼────┼────┼───╫───╫───────\n",
      "                           │    │    │   ║   ║       \n",
      "      code_qubit_1: ───────■────■────┼───╫───╫───────\n",
      "                                     │   ║   ║       \n",
      "      code_qubit_2: ─────────────────■───╫───╫───────\n",
      "                                         ║   ║       \n",
      "round_0_link_bit_0: ═════════════════════╩═══╬═══════\n",
      "                                             ║       \n",
      "round_0_link_bit_1: ═════════════════════════╩═══════\n",
      "                                                     \n",
      "\n",
      "========= logical 1 =========\n",
      "\n",
      "                         ┌───┐     ┌───┐     ┌─┐          \n",
      "      link_qubit_0: ─────┤ X ├─────┤ X ├─────┤M├─|0>──────\n",
      "                         └─┬─┘┌───┐└─┬─┘┌───┐└╥┘ ┌─┐      \n",
      "      link_qubit_1: ───────┼──┤ X ├──┼──┤ X ├─╫──┤M├──|0>─\n",
      "                    ┌───┐  │  └─┬─┘  │  └─┬─┘ ║  └╥┘      \n",
      "      code_qubit_0: ┤ X ├──■────┼────┼────┼───╫───╫───────\n",
      "                    ├───┤       │    │    │   ║   ║       \n",
      "      code_qubit_1: ┤ X ├───────■────■────┼───╫───╫───────\n",
      "                    ├───┤                 │   ║   ║       \n",
      "      code_qubit_2: ┤ X ├─────────────────■───╫───╫───────\n",
      "                    └───┘                     ║   ║       \n",
      "round_0_link_bit_0: ══════════════════════════╩═══╬═══════\n",
      "                                                  ║       \n",
      "round_0_link_bit_1: ══════════════════════════════╩═══════\n",
      "                                                          \n"
     ]
    }
   ],
   "source": [
    "empty_code.syndrome_measurement()\n",
    "print_circuits(empty_code)"
   ]
  },
  {
   "cell_type": "code",
   "execution_count": 30,
   "metadata": {},
   "outputs": [
    {
     "name": "stdout",
     "output_type": "stream",
     "text": [
      "\n",
      "========= logical 0 =========\n",
      "\n",
      "                    ┌───┐     ┌───┐          ┌─┐          \n",
      "      link_qubit_0: ┤ X ├─────┤ X ├──────────┤M├─|0>──────\n",
      "                    └─┬─┘┌───┐└─┬─┘┌───┐     └╥┘ ┌─┐      \n",
      "      link_qubit_1: ──┼──┤ X ├──┼──┤ X ├──────╫──┤M├──|0>─\n",
      "                      │  └─┬─┘  │  └─┬─┘┌───┐ ║  └╥┘      \n",
      "      code_qubit_0: ──■────┼────┼────┼──┤ X ├─╫───╫───────\n",
      "                           │    │    │  ├───┤ ║   ║       \n",
      "      code_qubit_1: ───────■────■────┼──┤ X ├─╫───╫───────\n",
      "                                     │  ├───┤ ║   ║       \n",
      "      code_qubit_2: ─────────────────■──┤ X ├─╫───╫───────\n",
      "                                        └───┘ ║   ║       \n",
      "round_0_link_bit_0: ══════════════════════════╩═══╬═══════\n",
      "                                                  ║       \n",
      "round_0_link_bit_1: ══════════════════════════════╩═══════\n",
      "                                                          \n",
      "\n",
      "========= logical 1 =========\n",
      "\n",
      "                         ┌───┐     ┌───┐          ┌─┐          \n",
      "      link_qubit_0: ─────┤ X ├─────┤ X ├──────────┤M├─|0>──────\n",
      "                         └─┬─┘┌───┐└─┬─┘┌───┐     └╥┘ ┌─┐      \n",
      "      link_qubit_1: ───────┼──┤ X ├──┼──┤ X ├──────╫──┤M├──|0>─\n",
      "                    ┌───┐  │  └─┬─┘  │  └─┬─┘┌───┐ ║  └╥┘      \n",
      "      code_qubit_0: ┤ X ├──■────┼────┼────┼──┤ X ├─╫───╫───────\n",
      "                    ├───┤       │    │    │  ├───┤ ║   ║       \n",
      "      code_qubit_1: ┤ X ├───────■────■────┼──┤ X ├─╫───╫───────\n",
      "                    ├───┤                 │  ├───┤ ║   ║       \n",
      "      code_qubit_2: ┤ X ├─────────────────■──┤ X ├─╫───╫───────\n",
      "                    └───┘                    └───┘ ║   ║       \n",
      "round_0_link_bit_0: ═══════════════════════════════╩═══╬═══════\n",
      "                                                       ║       \n",
      "round_0_link_bit_1: ═══════════════════════════════════╩═══════\n",
      "                                                               \n"
     ]
    }
   ],
   "source": [
    "empty_code.x()\n",
    "print_circuits(empty_code)"
   ]
  },
  {
   "cell_type": "code",
   "execution_count": 31,
   "metadata": {},
   "outputs": [
    {
     "name": "stdout",
     "output_type": "stream",
     "text": [
      "\n",
      "========= logical 0 =========\n",
      "\n",
      "                    ┌───┐     ┌───┐          ┌─┐                \n",
      "      link_qubit_0: ┤ X ├─────┤ X ├──────────┤M├─|0>────────────\n",
      "                    └─┬─┘┌───┐└─┬─┘┌───┐     └╥┘ ┌─┐            \n",
      "      link_qubit_1: ──┼──┤ X ├──┼──┤ X ├──────╫──┤M├──|0>───────\n",
      "                      │  └─┬─┘  │  └─┬─┘┌───┐ ║  └╥┘  ┌─┐       \n",
      "      code_qubit_0: ──■────┼────┼────┼──┤ X ├─╫───╫───┤M├───────\n",
      "                           │    │    │  ├───┤ ║   ║   └╥┘ ┌─┐   \n",
      "      code_qubit_1: ───────■────■────┼──┤ X ├─╫───╫────╫──┤M├───\n",
      "                                     │  ├───┤ ║   ║    ║  └╥┘┌─┐\n",
      "      code_qubit_2: ─────────────────■──┤ X ├─╫───╫────╫───╫─┤M├\n",
      "                                        └───┘ ║   ║    ║   ║ └╥┘\n",
      "round_0_link_bit_0: ══════════════════════════╩═══╬════╬═══╬══╬═\n",
      "                                                  ║    ║   ║  ║ \n",
      "round_0_link_bit_1: ══════════════════════════════╩════╬═══╬══╬═\n",
      "                                                       ║   ║  ║ \n",
      "        code_bit_0: ═══════════════════════════════════╩═══╬══╬═\n",
      "                                                           ║  ║ \n",
      "        code_bit_1: ═══════════════════════════════════════╩══╬═\n",
      "                                                              ║ \n",
      "        code_bit_2: ══════════════════════════════════════════╩═\n",
      "                                                                \n",
      "\n",
      "========= logical 1 =========\n",
      "\n",
      "                         ┌───┐     ┌───┐          ┌─┐                \n",
      "      link_qubit_0: ─────┤ X ├─────┤ X ├──────────┤M├─|0>────────────\n",
      "                         └─┬─┘┌───┐└─┬─┘┌───┐     └╥┘ ┌─┐            \n",
      "      link_qubit_1: ───────┼──┤ X ├──┼──┤ X ├──────╫──┤M├──|0>───────\n",
      "                    ┌───┐  │  └─┬─┘  │  └─┬─┘┌───┐ ║  └╥┘  ┌─┐       \n",
      "      code_qubit_0: ┤ X ├──■────┼────┼────┼──┤ X ├─╫───╫───┤M├───────\n",
      "                    ├───┤       │    │    │  ├───┤ ║   ║   └╥┘ ┌─┐   \n",
      "      code_qubit_1: ┤ X ├───────■────■────┼──┤ X ├─╫───╫────╫──┤M├───\n",
      "                    ├───┤                 │  ├───┤ ║   ║    ║  └╥┘┌─┐\n",
      "      code_qubit_2: ┤ X ├─────────────────■──┤ X ├─╫───╫────╫───╫─┤M├\n",
      "                    └───┘                    └───┘ ║   ║    ║   ║ └╥┘\n",
      "round_0_link_bit_0: ═══════════════════════════════╩═══╬════╬═══╬══╬═\n",
      "                                                       ║    ║   ║  ║ \n",
      "round_0_link_bit_1: ═══════════════════════════════════╩════╬═══╬══╬═\n",
      "                                                            ║   ║  ║ \n",
      "        code_bit_0: ════════════════════════════════════════╩═══╬══╬═\n",
      "                                                                ║  ║ \n",
      "        code_bit_1: ════════════════════════════════════════════╩══╬═\n",
      "                                                                   ║ \n",
      "        code_bit_2: ═══════════════════════════════════════════════╩═\n",
      "                                                                     \n"
     ]
    }
   ],
   "source": [
    "empty_code.readout()\n",
    "print_circuits(empty_code)"
   ]
  },
  {
   "cell_type": "code",
   "execution_count": 34,
   "metadata": {},
   "outputs": [
    {
     "name": "stdout",
     "output_type": "stream",
     "text": [
      "\n",
      "========= logical 0 =========\n",
      "\n",
      "{'00 0': 1024}\n",
      "\n",
      "========= logical 1 =========\n",
      "\n",
      "{'11 0': 1024}\n"
     ]
    }
   ],
   "source": [
    "circuits = code.get_circuit_list()\n",
    "job = execute( circuits, Aer.get_backend('qasm_simulator') )\n",
    "raw_results = {}\n",
    "for log in ['0','1']:\n",
    "    raw_results[log] = job.result().get_counts(log)\n",
    "    print('\\n========= logical',log,'=========\\n')\n",
    "    print(raw_results[log])\n"
   ]
  },
  {
   "cell_type": "code",
   "execution_count": null,
   "metadata": {},
   "outputs": [],
   "source": []
  },
  {
   "cell_type": "code",
   "execution_count": null,
   "metadata": {},
   "outputs": [],
   "source": []
  },
  {
   "cell_type": "code",
   "execution_count": null,
   "metadata": {},
   "outputs": [],
   "source": []
  },
  {
   "cell_type": "code",
   "execution_count": null,
   "metadata": {},
   "outputs": [],
   "source": []
  }
 ],
 "metadata": {
  "kernelspec": {
   "display_name": "Python 3",
   "language": "python",
   "name": "python3"
  },
  "language_info": {
   "codemirror_mode": {
    "name": "ipython",
    "version": 3
   },
   "file_extension": ".py",
   "mimetype": "text/x-python",
   "name": "python",
   "nbconvert_exporter": "python",
   "pygments_lexer": "ipython3",
   "version": "3.8.4"
  }
 },
 "nbformat": 4,
 "nbformat_minor": 4
}
