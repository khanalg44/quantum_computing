{
 "cells": [
  {
   "cell_type": "markdown",
   "metadata": {},
   "source": [
    "# Advanced Circuits\n",
    "\n",
    "**References**\n",
    "* Merging Circuit\n",
    "    * [advanced circuits: tutorials](https://qiskit.org/documentation/tutorials/circuits_advanced/index.html)\n",
    "\n",
    "* Quantum Volume\n",
    "    * [Quantum Volume: the power of quantum computers](https://www.honeywell.com/en-us/newsroom/news/2020/03/quantum-volume-the-power-of-quantum-computers)\n",
    "    * [Measuring Quantum Volume: Qiskit](https://qiskit.org/textbook/ch-quantum-hardware/measuring-quantum-volume.html)\n",
    "    \n",
    "    * [Qiskit docs QuantumVolume](https://qiskit.org/documentation/stubs/qiskit.circuit.library.QuantumVolume.html)\n"
   ]
  },
  {
   "cell_type": "code",
   "execution_count": 1,
   "metadata": {},
   "outputs": [],
   "source": [
    "import qiskit\n",
    "from qiskit import Aer, QuantumCircuit\n"
   ]
  },
  {
   "cell_type": "markdown",
   "metadata": {},
   "source": [
    "**Q1. How do you merge the lhs and rhs circuits to form the final circuit?**"
   ]
  },
  {
   "cell_type": "code",
   "execution_count": 2,
   "metadata": {},
   "outputs": [
    {
     "data": {
      "image/png": "[encoded data removed]",
      "text/plain": [
       "<Figure size 358.792x325.08 with 1 Axes>"
      ]
     },
     "execution_count": 2,
     "metadata": {},
     "output_type": "execute_result"
    }
   ],
   "source": [
    "\n",
    "qc_l = QuantumCircuit(5)\n",
    "qc_l.t(0)\n",
    "qc_l.h(1)\n",
    "qc_l.cx(0,2)\n",
    "qc_l.cx(1,4)\n",
    "qc_l.draw('mpl')"
   ]
  },
  {
   "cell_type": "code",
   "execution_count": 3,
   "metadata": {},
   "outputs": [
    {
     "data": {
      "image/png": "[encoded data removed]",
      "text/plain": [
       "<Figure size 298.592x144.48 with 1 Axes>"
      ]
     },
     "execution_count": 3,
     "metadata": {},
     "output_type": "execute_result"
    }
   ],
   "source": [
    "qc_r = QuantumCircuit(2)\n",
    "qc_r.cx(0,1)\n",
    "qc_r.sdg(0)\n",
    "qc_r.draw('mpl')"
   ]
  },
  {
   "cell_type": "code",
   "execution_count": 4,
   "metadata": {
    "scrolled": true
   },
   "outputs": [
    {
     "data": {
      "image/png": "[encoded data removed]",
      "text/plain": [
       "<Figure size 479.192x325.08 with 1 Axes>"
      ]
     },
     "execution_count": 4,
     "metadata": {},
     "output_type": "execute_result"
    }
   ],
   "source": [
    "qc_l.compose(qc_r).draw('mpl')\n"
   ]
  },
  {
   "cell_type": "markdown",
   "metadata": {},
   "source": [
    "**Q2.What's the depth of QuantumVolume(num_qubits=5, depth=5) circuit after decomposition into basis gates [u3,cx]?**\n"
   ]
  },
  {
   "cell_type": "code",
   "execution_count": 40,
   "metadata": {},
   "outputs": [],
   "source": [
    "from qiskit.circuit.library import QuantumVolume\n",
    "qvol = QuantumVolume(num_qubits=5, depth=5)\n",
    "qc = qvol.decompose()\n",
    "\n",
    "transpile(basis_gates=[u3, cx])"
   ]
  },
  {
   "cell_type": "markdown",
   "metadata": {},
   "source": []
  },
  {
   "cell_type": "code",
   "execution_count": 41,
   "metadata": {},
   "outputs": [],
   "source": [
    "#qc_l.combine(qc_r).draw('mpl')\n",
    "\n",
    "#lhs.append(rhs)\n",
    "#lhs.combine(rhs)\n",
    "#lhs.compose(rhs)"
   ]
  },
  {
   "cell_type": "markdown",
   "metadata": {},
   "source": [
    "**Q3. Which of the following gates/circuits are not currently available in the Qiskit circuit library?**\n",
    "The answer is in the following image. Only gate not in there is NAND.\n",
    "\n",
    "ANSWER: 2\n",
    "![](imgaes/available_gates.png)\n"
   ]
  },
  {
   "cell_type": "markdown",
   "metadata": {},
   "source": [
    "**Q4. Which one of the following Operators is different from the rest?**"
   ]
  },
  {
   "cell_type": "code",
   "execution_count": 22,
   "metadata": {},
   "outputs": [
    {
     "name": "stdout",
     "output_type": "stream",
     "text": [
      "The Data represented by the operator \n",
      " [[ 0.+0.j  0.+0.j  1.+0.j  0.+0.j]\n",
      " [ 0.+0.j  0.+0.j  0.+0.j -1.+0.j]\n",
      " [ 1.+0.j  0.+0.j  0.+0.j  0.+0.j]\n",
      " [ 0.+0.j -1.+0.j  0.+0.j  0.+0.j]] \n",
      "\n",
      "Real part: \n",
      " [[ 0.  0.  1.  0.]\n",
      " [ 0.  0.  0. -1.]\n",
      " [ 1.  0.  0.  0.]\n",
      " [ 0. -1.  0.  0.]] \n",
      "\n",
      "Imag part: \n",
      " [[0. 0. 0. 0.]\n",
      " [0. 0. 0. 0.]\n",
      " [0. 0. 0. 0.]\n",
      " [0. 0. 0. 0.]] \n",
      "\n"
     ]
    }
   ],
   "source": [
    "from qiskit.quantum_info import Operator, Pauli\n",
    "\n",
    "op1 = Operator(Pauli(label='XZ'))\n",
    "\n",
    "print (f\"The Data represented by the operator \\n {op1.data} \\n\")\n",
    "print (f\"Real part: \\n {op1.data.real} \\n\")\n",
    "print (f\"Imag part: \\n {op1.data.imag} \\n\")"
   ]
  },
  {
   "cell_type": "code",
   "execution_count": 25,
   "metadata": {},
   "outputs": [
    {
     "name": "stdout",
     "output_type": "stream",
     "text": [
      "The Data represented by the operator \n",
      " [[ 0.+0.j  0.+0.j  1.+0.j  0.+0.j]\n",
      " [ 0.+0.j -0.+0.j  0.+0.j -1.+0.j]\n",
      " [ 1.+0.j  0.+0.j  0.+0.j  0.+0.j]\n",
      " [ 0.+0.j -1.+0.j  0.+0.j -0.+0.j]] \n",
      "\n",
      "Real part: \n",
      " [[ 0.  0.  1.  0.]\n",
      " [ 0. -0.  0. -1.]\n",
      " [ 1.  0.  0.  0.]\n",
      " [ 0. -1.  0. -0.]] \n",
      "\n",
      "Imag part: \n",
      " [[0. 0. 0. 0.]\n",
      " [0. 0. 0. 0.]\n",
      " [0. 0. 0. 0.]\n",
      " [0. 0. 0. 0.]] \n",
      "\n"
     ]
    }
   ],
   "source": [
    "op2 = Operator(Pauli(label='X')).tensor(Operator(Pauli(label='Z')))\n",
    "\n",
    "print (f\"The Data represented by the operator \\n {op2.data} \\n\")\n",
    "print (f\"Real part: \\n {op2.data.real} \\n\")\n",
    "print (f\"Imag part: \\n {op2.data.imag} \\n\")"
   ]
  },
  {
   "cell_type": "code",
   "execution_count": 27,
   "metadata": {},
   "outputs": [
    {
     "name": "stdout",
     "output_type": "stream",
     "text": [
      "The Data represented by the operator \n",
      " [[ 0.+0.j  1.+0.j  0.+0.j  0.+0.j]\n",
      " [ 1.+0.j  0.+0.j  0.+0.j  0.+0.j]\n",
      " [ 0.+0.j  0.+0.j  0.+0.j -1.+0.j]\n",
      " [ 0.+0.j  0.+0.j -1.+0.j  0.+0.j]] \n",
      "\n",
      "Real part: \n",
      " [[ 0.  1.  0.  0.]\n",
      " [ 1.  0.  0.  0.]\n",
      " [ 0.  0.  0. -1.]\n",
      " [ 0.  0. -1.  0.]] \n",
      "\n",
      "Imag part: \n",
      " [[0. 0. 0. 0.]\n",
      " [0. 0. 0. 0.]\n",
      " [0. 0. 0. 0.]\n",
      " [0. 0. 0. 0.]] \n",
      "\n"
     ]
    }
   ],
   "source": [
    "qc = QuantumCircuit(2); \n",
    "qc.x(0)\n",
    "qc.z(1)\n",
    "op3 = Operator(qc)\n",
    "\n",
    "\n",
    "print (f\"The Data represented by the operator \\n {op3.data} \\n\")\n",
    "print (f\"Real part: \\n {op3.data.real} \\n\")\n",
    "print (f\"Imag part: \\n {op3.data.imag} \\n\")"
   ]
  },
  {
   "cell_type": "code",
   "execution_count": 28,
   "metadata": {},
   "outputs": [],
   "source": [
    "op4= Operator([[0, 0, 1, 0], [0, 0, 0, -1], [1, 0, 0, 0], [0, -1, 0, 0]])"
   ]
  },
  {
   "cell_type": "code",
   "execution_count": 29,
   "metadata": {},
   "outputs": [
    {
     "name": "stdout",
     "output_type": "stream",
     "text": [
      "The Data represented by the operator \n",
      " [[ 0.+0.j  0.+0.j  1.+0.j  0.+0.j]\n",
      " [ 0.+0.j  0.+0.j  0.+0.j -1.+0.j]\n",
      " [ 1.+0.j  0.+0.j  0.+0.j  0.+0.j]\n",
      " [ 0.+0.j -1.+0.j  0.+0.j  0.+0.j]] \n",
      "\n",
      "Real part: \n",
      " [[ 0.  0.  1.  0.]\n",
      " [ 0.  0.  0. -1.]\n",
      " [ 1.  0.  0.  0.]\n",
      " [ 0. -1.  0.  0.]] \n",
      "\n",
      "Imag part: \n",
      " [[0. 0. 0. 0.]\n",
      " [0. 0. 0. 0.]\n",
      " [0. 0. 0. 0.]\n",
      " [0. 0. 0. 0.]] \n",
      "\n"
     ]
    }
   ],
   "source": [
    "print (f\"The Data represented by the operator \\n {op4.data} \\n\")\n",
    "print (f\"Real part: \\n {op4.data.real} \\n\")\n",
    "print (f\"Imag part: \\n {op4.data.imag} \\n\")"
   ]
  },
  {
   "cell_type": "markdown",
   "metadata": {},
   "source": [
    "The above print outs mean the **correct answer is 3**"
   ]
  },
  {
   "cell_type": "markdown",
   "metadata": {},
   "source": [
    "**Q5. How many gates are in the quantum circuit that results from transpiling the following quantum circuit using only the pass LookaheadSwap? Assume the following coupling map: [[0, 1], [1, 2], [2, 3], [3, 4]]**\n",
    "\n",
    "[Here is the Reference](https://qiskit.org/documentation/tutorials/circuits_advanced/4_transpiler_passes_and_passmanager.html)"
   ]
  },
  {
   "cell_type": "code",
   "execution_count": 44,
   "metadata": {},
   "outputs": [
    {
     "data": {
      "image/png": "[encoded data removed]",
      "text/plain": [
       "<Figure size 418.992x325.08 with 1 Axes>"
      ]
     },
     "execution_count": 44,
     "metadata": {},
     "output_type": "execute_result"
    }
   ],
   "source": [
    "qc = QuantumCircuit(5)\n",
    "qc.h(3); qc.cx([0,3,2],[4,0,4])\n",
    "qc.draw('mpl')"
   ]
  },
  {
   "cell_type": "code",
   "execution_count": 46,
   "metadata": {},
   "outputs": [
    {
     "name": "stdout",
     "output_type": "stream",
     "text": [
      "gate size: 8\n"
     ]
    },
    {
     "data": {
      "image/png": "[encoded data removed]",
      "text/plain": [
       "<Figure size 479.192x325.08 with 1 Axes>"
      ]
     },
     "execution_count": 46,
     "metadata": {},
     "output_type": "execute_result"
    }
   ],
   "source": [
    "from qiskit.transpiler import CouplingMap, Layout, PassManager\n",
    "from qiskit.transpiler.passes import LookaheadSwap\n",
    "\n",
    "coupling = [[0, 1], [1, 2], [2, 3], [3, 4]]\n",
    "\n",
    "coupling_map = CouplingMap(couplinglist=coupling)\n",
    "\n",
    "#LookaheadSwap\n",
    "LS = LookaheadSwap(coupling_map=coupling_map) \n",
    "pass_manager = PassManager(LS)\n",
    "LS_ckt = pass_manager.run(qc)\n",
    "print ( \"gate size:\", LS_ckt.size() )\n",
    "LS_ckt.draw('mpl')\n"
   ]
  },
  {
   "cell_type": "code",
   "execution_count": 37,
   "metadata": {
    "scrolled": true
   },
   "outputs": [
    {
     "data": {
      "image/png": "[encoded data removed]",
      "text/plain": [
       "<Figure size 479.192x325.08 with 1 Axes>"
      ]
     },
     "execution_count": 37,
     "metadata": {},
     "output_type": "execute_result"
    }
   ],
   "source": [
    "\n",
    "LS = LookaheadSwap(coupling_map=coupling_map) #LookaheadSwap\n",
    "pass_manager = PassManager(LS)\n",
    "LS_ckt = pass_manager.run(qc)\n",
    "LS_ckt.draw('mpl')"
   ]
  },
  {
   "cell_type": "code",
   "execution_count": 31,
   "metadata": {},
   "outputs": [
    {
     "name": "stdout",
     "output_type": "stream",
     "text": [
      "gates =  OrderedDict([('cx', 24), ('u2', 9)])\n",
      "depth =  15\n"
     ]
    }
   ],
   "source": [
    "from qiskit.compiler import transpile\n",
    "from qiskit.test.mock import FakeTokyo\n",
    "\n",
    "backend = FakeTokyo()\n",
    "optimized_0 = transpile(qc, backend=backend, seed_transpiler=11, optimization_level=0)\n",
    "print('gates = ', optimized_0.count_ops())\n",
    "print('depth = ', optimized_0.depth())"
   ]
  },
  {
   "cell_type": "code",
   "execution_count": null,
   "metadata": {},
   "outputs": [],
   "source": [
    "#LookaheadSwap"
   ]
  }
 ],
 "metadata": {
  "kernelspec": {
   "display_name": "Python 3",
   "language": "python",
   "name": "python3"
  },
  "language_info": {
   "codemirror_mode": {
    "name": "ipython",
    "version": 3
   },
   "file_extension": ".py",
   "mimetype": "text/x-python",
   "name": "python",
   "nbconvert_exporter": "python",
   "pygments_lexer": "ipython3",
   "version": "3.8.4"
  }
 },
 "nbformat": 4,
 "nbformat_minor": 4
}
