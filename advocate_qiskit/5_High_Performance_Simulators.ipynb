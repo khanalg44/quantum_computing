{
 "cells": [
  {
   "cell_type": "markdown",
   "metadata": {},
   "source": [
    "## High-Performance Simulators\n",
    "\n",
    "**Q1. What is the result of this circuit when run on the UnitarySimulator?**"
   ]
  },
  {
   "cell_type": "code",
   "execution_count": 4,
   "metadata": {},
   "outputs": [],
   "source": [
    "import qiskit\n",
    "from qiskit import Aer, QuantumCircuit, execute\n",
    "from qiskit.visualization import plot_bloch_multivector, plot_histogram\n",
    "from qiskit.visualization import plot_state_city\n",
    "\n",
    "import numpy as np\n",
    "import pylab as plt"
   ]
  },
  {
   "cell_type": "code",
   "execution_count": 24,
   "metadata": {},
   "outputs": [
    {
     "name": "stdout",
     "output_type": "stream",
     "text": [
      "unitary matrix:\n",
      " [[ 0.+0.j  0.+0.j  0.+0.j  1.+0.j]\n",
      " [-0.+0.j -0.+0.j -1.+0.j -0.+0.j]\n",
      " [ 0.+0.j  1.+0.j  0.+0.j  0.+0.j]\n",
      " [-1.+0.j -0.+0.j -0.+0.j -0.+0.j]]\n"
     ]
    },
    {
     "data": {
      "image/png": "[encoded data removed]",
      "text/plain": [
       "<Figure size 426.56x206.4 with 1 Axes>"
      ]
     },
     "metadata": {},
     "output_type": "display_data"
    }
   ],
   "source": [
    "qc = QuantumCircuit(2)\n",
    "qc.x([0,1]);\n",
    "qc.z(0);\n",
    "fig,ax=plt.subplots(1,1)\n",
    "qc.draw(output='mpl', scale=1., ax=ax)\n",
    "\n",
    "backend = Aer.get_backend('unitary_simulator')\n",
    "res  = execute(qc, backend=backend).result()\n",
    "#print (res)\n",
    "\n",
    "print ('unitary matrix:\\n', res.results[0].data.unitary )"
   ]
  },
  {
   "cell_type": "markdown",
   "metadata": {},
   "source": [
    "So the answer is matches with OPTION 1.\n",
    "\n",
    "**Q2. You can also use Operator class in the quantum_info module to simulate circuits and obtain unitary.\n",
    "Given the following code, which option produces a different unitary from the rest?**\n",
    "    \n",
    "    import qiskit.quantum_info as qi\n",
    "    qc = QuantumCircuit(2)\n",
    "    qc.h(0)\n",
    "    qc.cx(0,1)\n"
   ]
  },
  {
   "cell_type": "code",
   "execution_count": 25,
   "metadata": {},
   "outputs": [
    {
     "data": {
      "text/plain": [
       "<qiskit.circuit.instructionset.InstructionSet at 0x13081b1f0>"
      ]
     },
     "execution_count": 25,
     "metadata": {},
     "output_type": "execute_result"
    }
   ],
   "source": [
    "import qiskit.quantum_info as qi\n",
    "qc = QuantumCircuit(2)\n",
    "qc.h(0)\n",
    "qc.cx(0,1)"
   ]
  },
  {
   "cell_type": "code",
   "execution_count": 34,
   "metadata": {},
   "outputs": [
    {
     "name": "stdout",
     "output_type": "stream",
     "text": [
      "Option1: \n",
      " unitary:\n",
      " [[ 0.71+0.j  0.71+0.j  0.  +0.j  0.  +0.j]\n",
      " [ 0.  +0.j  0.  +0.j  0.71+0.j -0.71+0.j]\n",
      " [ 0.  +0.j  0.  +0.j  0.71+0.j  0.71+0.j]\n",
      " [ 0.71+0.j -0.71+0.j  0.  +0.j  0.  +0.j]] \n",
      "Real part:\n",
      " [[ 0.71  0.71  0.    0.  ]\n",
      " [ 0.    0.    0.71 -0.71]\n",
      " [ 0.    0.    0.71  0.71]\n",
      " [ 0.71 -0.71  0.    0.  ]] \n",
      "Imag part :\n",
      "[[0. 0. 0. 0.]\n",
      " [0. 0. 0. 0.]\n",
      " [0. 0. 0. 0.]\n",
      " [0. 0. 0. 0.]] \n",
      "\n"
     ]
    }
   ],
   "source": [
    "\n",
    "uni= qi.Operator(qc).data.round(2)\n",
    "\n",
    "\n",
    "print (f\"Option1: \\n unitary:\\n {uni} \\nReal part:\\n {uni.real} \\nImag part :\\n{uni.imag} \\n\" )\n"
   ]
  },
  {
   "cell_type": "code",
   "execution_count": 46,
   "metadata": {},
   "outputs": [
    {
     "name": "stdout",
     "output_type": "stream",
     "text": [
      "option 2 and option 3 couldn't be run\n"
     ]
    }
   ],
   "source": [
    "print (\"option 2 and option 3 couldn't be run\")\n",
    "#uni = qi.Operator.from_label('II').compose(HGate(), [0]).compose(CXGate(), [0, 1]).data.round(2)\n",
    "#uni = qi.Operator.from_label('HI') + qi.Operator.from_label('CX')\n"
   ]
  },
  {
   "cell_type": "code",
   "execution_count": 43,
   "metadata": {},
   "outputs": [
    {
     "name": "stdout",
     "output_type": "stream",
     "text": [
      "Option3: \n",
      " unitary:\n",
      " [[ 0.71+0.j  0.71+0.j  0.  +0.j  0.  +0.j]\n",
      " [ 0.  +0.j  0.  +0.j  0.71+0.j -0.71+0.j]\n",
      " [ 0.  +0.j  0.  +0.j  0.71+0.j  0.71+0.j]\n",
      " [ 0.71+0.j -0.71+0.j  0.  +0.j  0.  +0.j]] \n",
      "Real part:\n",
      " [[ 0.71  0.71  0.    0.  ]\n",
      " [ 0.    0.    0.71 -0.71]\n",
      " [ 0.    0.    0.71  0.71]\n",
      " [ 0.71 -0.71  0.    0.  ]] \n",
      "Imag part :\n",
      "[[0. 0. 0. 0.]\n",
      " [0. 0. 0. 0.]\n",
      " [0. 0. 0. 0.]\n",
      " [0. 0. 0. 0.]] \n",
      "\n"
     ]
    }
   ],
   "source": [
    "uni = qi.Operator.from_label('II').compose(qc).data.round(2)\n",
    "print (f\"Option3: \\n unitary:\\n {uni} \\nReal part:\\n {uni.real} \\nImag part :\\n{uni.imag} \\n\" )"
   ]
  },
  {
   "cell_type": "markdown",
   "metadata": {},
   "source": [
    "since the error for option 3 says 'CX' couldn't be converted to a matrix I guess the answer is option 3."
   ]
  },
  {
   "cell_type": "code",
   "execution_count": null,
   "metadata": {},
   "outputs": [],
   "source": []
  }
 ],
 "metadata": {
  "kernelspec": {
   "display_name": "Python 3",
   "language": "python",
   "name": "python3"
  },
  "language_info": {
   "codemirror_mode": {
    "name": "ipython",
    "version": 3
   },
   "file_extension": ".py",
   "mimetype": "text/x-python",
   "name": "python",
   "nbconvert_exporter": "python",
   "pygments_lexer": "ipython3",
   "version": "3.8.4"
  }
 },
 "nbformat": 4,
 "nbformat_minor": 4
}
