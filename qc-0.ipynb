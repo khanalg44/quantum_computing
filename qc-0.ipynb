{
 "cells": [
  {
   "cell_type": "code",
   "execution_count": 1,
   "metadata": {},
   "outputs": [],
   "source": [
    "# Useful additional packages \n",
    "import matplotlib.pyplot as plt\n",
    "%matplotlib inline\n",
    "import numpy as np\n",
    "\n",
    "from qiskit import QuantumCircuit, execute, Aer\n",
    "from qiskit.visualization import plot_histogram\n"
   ]
  },
  {
   "cell_type": "code",
   "execution_count": 12,
   "metadata": {},
   "outputs": [
    {
     "name": "stdout",
     "output_type": "stream",
     "text": [
      "[[ 0.-1.j  0.+0.j]\n",
      " [ 0.+0.j -0.-1.j]]\n"
     ]
    }
   ],
   "source": [
    "ckt=QuantumCircuit(1)\n",
    "ckt.x(0)\n",
    "ckt.y(0)\n",
    "ckt.z(0)\n",
    "\n",
    "ckt.draw(output='mpl')\n",
    "\n",
    "sim_uni = Aer.get_backend('unitary_simulator')\n",
    "job_uni = execute(ckt, sim_uni, shots=1000)\n",
    "res_uni = job_uni.result()\n",
    "uni_matrix = res_uni.get_unitary(ckt)\n",
    "print (uni_matrix)"
   ]
  },
  {
   "cell_type": "code",
   "execution_count": null,
   "metadata": {},
   "outputs": [],
   "source": []
  }
 ],
 "metadata": {
  "kernelspec": {
   "display_name": "Python 3",
   "language": "python",
   "name": "python3"
  },
  "language_info": {
   "codemirror_mode": {
    "name": "ipython",
    "version": 3
   },
   "file_extension": ".py",
   "mimetype": "text/x-python",
   "name": "python",
   "nbconvert_exporter": "python",
   "pygments_lexer": "ipython3",
   "version": "3.7.5"
  }
 },
 "nbformat": 4,
 "nbformat_minor": 2
}
